{
 "cells": [
  {
   "cell_type": "code",
   "execution_count": null,
   "id": "e76b97d3",
   "metadata": {},
   "outputs": [],
   "source": [
    "from datasets import load_dataset\n",
    "from tqdm import tqdm\n",
    "from sentence_transformers import SentenceTransformer\n",
    "\n",
    "import faiss\n",
    "import numpy as np\n",
    "\n"
   ]
  },
  {
   "cell_type": "code",
   "execution_count": 4,
   "id": "25119f7c",
   "metadata": {},
   "outputs": [],
   "source": [
    "dataset = load_dataset(\"qiaojin/PubMedQA\",'pqa_artificial')['train']"
   ]
  },
  {
   "cell_type": "code",
   "execution_count": 5,
   "id": "7bf44eea",
   "metadata": {},
   "outputs": [],
   "source": [
    "mini_data = dataset.select(range(20000))"
   ]
  },
  {
   "cell_type": "code",
   "execution_count": 10,
   "id": "21fd46d0",
   "metadata": {},
   "outputs": [
    {
     "name": "stderr",
     "output_type": "stream",
     "text": [
      "100%|██████████| 20000/20000 [00:02<00:00, 7381.51it/s]\n"
     ]
    }
   ],
   "source": [
    "all_contexts = []\n",
    "for data in tqdm(mini_data):\n",
    "    contexts = data['context']['contexts']\n",
    "    all_contexts.extend(contexts)"
   ]
  },
  {
   "cell_type": "code",
   "execution_count": 11,
   "id": "4e10cb01",
   "metadata": {},
   "outputs": [
    {
     "data": {
      "text/plain": [
       "62380"
      ]
     },
     "execution_count": 11,
     "metadata": {},
     "output_type": "execute_result"
    }
   ],
   "source": [
    "len(all_contexts)"
   ]
  },
  {
   "cell_type": "code",
   "execution_count": 13,
   "id": "4e40b35a",
   "metadata": {},
   "outputs": [
    {
     "data": {
      "application/vnd.jupyter.widget-view+json": {
       "model_id": "ffd2f02562964bc890de0778731712ae",
       "version_major": 2,
       "version_minor": 0
      },
      "text/plain": [
       "modules.json:   0%|          | 0.00/349 [00:00<?, ?B/s]"
      ]
     },
     "metadata": {},
     "output_type": "display_data"
    },
    {
     "data": {
      "application/vnd.jupyter.widget-view+json": {
       "model_id": "d1457e6f2da74a1bae779dcde95d58f8",
       "version_major": 2,
       "version_minor": 0
      },
      "text/plain": [
       "config_sentence_transformers.json:   0%|          | 0.00/116 [00:00<?, ?B/s]"
      ]
     },
     "metadata": {},
     "output_type": "display_data"
    },
    {
     "data": {
      "application/vnd.jupyter.widget-view+json": {
       "model_id": "d2e321adabe44d42891560e9d666f009",
       "version_major": 2,
       "version_minor": 0
      },
      "text/plain": [
       "README.md:   0%|          | 0.00/10.5k [00:00<?, ?B/s]"
      ]
     },
     "metadata": {},
     "output_type": "display_data"
    },
    {
     "data": {
      "application/vnd.jupyter.widget-view+json": {
       "model_id": "dc0ebbe72f234e0d8dae2d5e87a5ce82",
       "version_major": 2,
       "version_minor": 0
      },
      "text/plain": [
       "sentence_bert_config.json:   0%|          | 0.00/53.0 [00:00<?, ?B/s]"
      ]
     },
     "metadata": {},
     "output_type": "display_data"
    },
    {
     "data": {
      "application/vnd.jupyter.widget-view+json": {
       "model_id": "f0c8c1c642c74432a66e6c2051c3e092",
       "version_major": 2,
       "version_minor": 0
      },
      "text/plain": [
       "config.json:   0%|          | 0.00/612 [00:00<?, ?B/s]"
      ]
     },
     "metadata": {},
     "output_type": "display_data"
    },
    {
     "data": {
      "application/vnd.jupyter.widget-view+json": {
       "model_id": "796aa420cf4a43218535d7a73e2f3803",
       "version_major": 2,
       "version_minor": 0
      },
      "text/plain": [
       "model.safetensors:   0%|          | 0.00/90.9M [00:00<?, ?B/s]"
      ]
     },
     "metadata": {},
     "output_type": "display_data"
    },
    {
     "data": {
      "application/vnd.jupyter.widget-view+json": {
       "model_id": "a49d2ef1a2aa45d8a0a33bb3eee97b84",
       "version_major": 2,
       "version_minor": 0
      },
      "text/plain": [
       "tokenizer_config.json:   0%|          | 0.00/350 [00:00<?, ?B/s]"
      ]
     },
     "metadata": {},
     "output_type": "display_data"
    },
    {
     "data": {
      "application/vnd.jupyter.widget-view+json": {
       "model_id": "12728623bddd457cb9c230dfeca23ede",
       "version_major": 2,
       "version_minor": 0
      },
      "text/plain": [
       "vocab.txt:   0%|          | 0.00/232k [00:00<?, ?B/s]"
      ]
     },
     "metadata": {},
     "output_type": "display_data"
    },
    {
     "data": {
      "application/vnd.jupyter.widget-view+json": {
       "model_id": "a21b59d115ba400194d777f4e9ee55f0",
       "version_major": 2,
       "version_minor": 0
      },
      "text/plain": [
       "tokenizer.json:   0%|          | 0.00/466k [00:00<?, ?B/s]"
      ]
     },
     "metadata": {},
     "output_type": "display_data"
    },
    {
     "data": {
      "application/vnd.jupyter.widget-view+json": {
       "model_id": "98f8a9b390f84945b6f4cd25aa74df09",
       "version_major": 2,
       "version_minor": 0
      },
      "text/plain": [
       "special_tokens_map.json:   0%|          | 0.00/112 [00:00<?, ?B/s]"
      ]
     },
     "metadata": {},
     "output_type": "display_data"
    },
    {
     "data": {
      "application/vnd.jupyter.widget-view+json": {
       "model_id": "dafdd7d6d50c4a9c9991c8a77d0d4995",
       "version_major": 2,
       "version_minor": 0
      },
      "text/plain": [
       "config.json:   0%|          | 0.00/190 [00:00<?, ?B/s]"
      ]
     },
     "metadata": {},
     "output_type": "display_data"
    },
    {
     "data": {
      "application/vnd.jupyter.widget-view+json": {
       "model_id": "8110e8fafcb348449675829c25af770b",
       "version_major": 2,
       "version_minor": 0
      },
      "text/plain": [
       "Batches:   0%|          | 0/1950 [00:00<?, ?it/s]"
      ]
     },
     "metadata": {},
     "output_type": "display_data"
    }
   ],
   "source": [
    "encoder = SentenceTransformer(\"sentence-transformers/all-MiniLM-L6-v2\")  # Lightweight, fast\n",
    "embeddings = encoder.encode(all_contexts, show_progress_bar=True, convert_to_tensor=True)"
   ]
  },
  {
   "cell_type": "code",
   "execution_count": 15,
   "id": "6c00de6d",
   "metadata": {},
   "outputs": [
    {
     "data": {
      "text/plain": [
       "torch.Tensor"
      ]
     },
     "execution_count": 15,
     "metadata": {},
     "output_type": "execute_result"
    }
   ],
   "source": [
    "type(embeddings)"
   ]
  },
  {
   "cell_type": "code",
   "execution_count": 22,
   "id": "1c1ce5e3",
   "metadata": {},
   "outputs": [],
   "source": [
    "embedding_dim = embeddings.shape[1]\n",
    "index = faiss.IndexFlatL2(embedding_dim)"
   ]
  },
  {
   "cell_type": "code",
   "execution_count": 23,
   "id": "61e8485e",
   "metadata": {},
   "outputs": [],
   "source": [
    "index.add(embeddings.cpu().detach().numpy())\n"
   ]
  },
  {
   "cell_type": "code",
   "execution_count": 24,
   "id": "b6374fc4",
   "metadata": {},
   "outputs": [],
   "source": [
    "faiss.write_index(index, \"pubmed_faiss.index\")"
   ]
  },
  {
   "cell_type": "code",
   "execution_count": 26,
   "id": "6caa2c3c",
   "metadata": {},
   "outputs": [],
   "source": [
    "import json\n",
    "with open(\"pubmed_contexts.json\", \"w\") as f:\n",
    "    json.dump(all_contexts, f)"
   ]
  },
  {
   "cell_type": "code",
   "execution_count": 27,
   "id": "25a70940",
   "metadata": {},
   "outputs": [],
   "source": [
    "query = \"Does aspirin help prevent heart attack?\"\n",
    "query_vec = encoder.encode([query])"
   ]
  },
  {
   "cell_type": "code",
   "execution_count": 29,
   "id": "d357cd1e",
   "metadata": {},
   "outputs": [
    {
     "name": "stdout",
     "output_type": "stream",
     "text": [
      "['Aspirin inhibits the cyclooxygenase-1 (COX-1) mediated thromboxane A2 synthesis. Despite COX-1 inhibition, in patients with coronary artery disease (CAD), platelets can be activated through other mechanisms, like activation by thrombin.', 'To evaluate the role of reticulated platelets in the antiplatelet effects of aspirin.', 'Antiplatelet therapy has been proven to be effective for both primary and secondary prevention of myocardial infarction, stroke, and cardiovascular death. However, a significant proportion of patients treated with aspirin experience ischemic events. A number of prospective studies have demonstrated that decreased responsiveness to antiplatelet therapy as measured by various methods, is strongly associated with an increase in clinical events. Our objective was to characterize platelet function in patients presenting with chest pain using a point-of-care assay, PFA-100 and correlating results to traditional platelet aggregometry to determine if patients with aspirin non-responsiveness have increased clinical sequelae.', 'It is not known whether concomitant use of aspirin might attenuate the beneficial effects of mineralocorticoid receptor antagonists (MRAs). The purpose of this subgroup analysis was to explore the interaction between baseline aspirin treatment and the effect of eplerenone on the primary efficacy outcomes (composite of hospitalization for heart failure or cardiovascular mortality), its components, and safety markers [estimated glomerular filtration rate (eGFR), systolic blood pressure (SBP), and serum potassium >5.5\\u2009mmol/L] in the Eplerenone in Mild Patients Hospitalization and SurvIval Study in Heart Failure trial (EMPHASIS-HF).', 'The mechanisms for the variability in antiplatelet effects of aspirin are unclear. Immature (reticulated) platelets may modulate the antiplatelet effects of aspirin through uninhibited cyclooxygenase (COX)-1 and COX-2.']\n"
     ]
    }
   ],
   "source": [
    "D, I = index.search(np.array(query_vec), k=5)  # Get top-5 similar\n",
    "with open(\"pubmed_contexts.json\") as f:\n",
    "    context_list = json.load(f)\n",
    "\n",
    "results = [context_list[i] for i in I[0]]\n",
    "print(results)"
   ]
  },
  {
   "cell_type": "code",
   "execution_count": null,
   "id": "e8b37385",
   "metadata": {},
   "outputs": [],
   "source": []
  }
 ],
 "metadata": {
  "kernelspec": {
   "display_name": "Python 3",
   "language": "python",
   "name": "python3"
  },
  "language_info": {
   "codemirror_mode": {
    "name": "ipython",
    "version": 3
   },
   "file_extension": ".py",
   "mimetype": "text/x-python",
   "name": "python",
   "nbconvert_exporter": "python",
   "pygments_lexer": "ipython3",
   "version": "3.10.17"
  }
 },
 "nbformat": 4,
 "nbformat_minor": 5
}
