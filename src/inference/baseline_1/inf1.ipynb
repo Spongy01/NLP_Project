{
 "cells": [
  {
   "cell_type": "code",
   "execution_count": 1,
   "id": "ea1342bd",
   "metadata": {},
   "outputs": [
    {
     "name": "stderr",
     "output_type": "stream",
     "text": [
      "Note: Environment variable`HF_TOKEN` is set and is the current active token independently from the token you've just configured.\n",
      "WARNING:huggingface_hub._login:Note: Environment variable`HF_TOKEN` is set and is the current active token independently from the token you've just configured.\n"
     ]
    }
   ],
   "source": [
    "import torch\n",
    "from transformers import AutoTokenizer, AutoModelForCausalLM, pipeline\n",
    "from datasets import load_dataset\n",
    "from huggingface_hub import login\n",
    "from tqdm import tqdm\n",
    "from dotenv import load_dotenv\n",
    "import os\n",
    "load_dotenv()\n",
    "token = os.getenv(\"HF_TOKEN\")\n",
    "print(token)\n",
    "login(token=token)\n",
    "import torch.nn.functional as F\n",
    "\n",
    "from torch.nn.utils.rnn import pad_sequence\n",
    "from torch.utils.data import DataLoader\n",
    "from sklearn.preprocessing import LabelEncoder\n",
    "import numpy as np\n"
   ]
  },
  {
   "cell_type": "code",
   "execution_count": 2,
   "id": "b0eb0bc4",
   "metadata": {},
   "outputs": [],
   "source": [
    "assert torch.cuda.is_available(), \"GPU not available!\"\n"
   ]
  },
  {
   "cell_type": "code",
   "execution_count": 3,
   "id": "30976b93",
   "metadata": {},
   "outputs": [],
   "source": [
    "def evaluate_(model, data_loader,  yes_token_id, no_token_id,maybe_token_id,label_encoder, device='cuda'):\n",
    "    \"\"\"\n",
    "    Function to implement zero-shot distilGPT2 inference\n",
    "    Args:\n",
    "    model: GPT2 model\n",
    "    data_loader: Dataloader for the dataset\n",
    "    ...: Any other arguments you may need\n",
    "\n",
    "    Returns:\n",
    "    preds\n",
    "    \"\"\"\n",
    "    model.eval()\n",
    "    preds = []\n",
    "    y_true = []\n",
    "    # model.to(device)\n",
    "    print(yes_token_id, no_token_id, maybe_token_id)\n",
    "    for batch in tqdm(data_loader):\n",
    "        input_ids = batch['input_ids'].to(device)\n",
    "        attention_mask = batch['attention_mask'].to(device)\n",
    "\n",
    "        with torch.no_grad():\n",
    "            with torch.amp.autocast(device_type=device, dtype=torch.float16):\n",
    "                output = model(input_ids=input_ids, attention_mask=attention_mask)\n",
    "                logits = output.logits # (batchsize, chunklen, vocab_size)\n",
    "\n",
    "                last_indices = attention_mask.sum(-1)-1\n",
    "                final_logits = logits[torch.arange(len(input_ids)), last_indices] # (batchsize,vocab_size)\n",
    "                probs = F.softmax(final_logits, dim=-1) # (batchsize,vocab_size)\n",
    "\n",
    "                yes_probs = probs[:, yes_token_id]\n",
    "                no_probs = probs[:, no_token_id]\n",
    "                maybe_probs = probs[:, maybe_token_id]\n",
    "\n",
    "                stacked = torch.stack([no_probs, maybe_probs, yes_probs], axis=1)\n",
    "                # print(stacked.shape)\n",
    "                # print(stacked)\n",
    "                pred_indices = torch.argmax(stacked, axis=1)\n",
    "                # print(pred_indices.shape)\n",
    "                label_order = ['no', 'maybe', 'yes']\n",
    "                pred_labels = [label_order[i] for i in pred_indices]\n",
    "\n",
    "\n",
    "                preds.extend(label_encoder.transform(pred_labels))\n",
    "                y_true.extend(label_encoder.transform(batch['answer']))\n",
    "    return preds, y_true\n",
    "\n",
    "\n",
    "def generate(pipeline, dataset):\n",
    "    \n",
    "    counter = 1\n",
    "    for data in dataset[:5]:\n",
    "        question = data['question']\n",
    "        contexts = data['context']['contexts']\n",
    "        context = \"\\n\".join([f\"Context {i+1}: {c}\" for i, c in enumerate(contexts)])\n",
    "        prompt = (\n",
    "            f\"Contexts:\\n{context}\\n\\n\"\n",
    "            \"Based on the contexts above, answer the question below.\\n\"\n",
    "            \"Provide a short explanation that justifies your answer using evidence from the context.\\n\"\n",
    "            f\"Question: {question}?\\n\"\n",
    "        )\n",
    "\n",
    "        generated_answer = pipeline(prompt)\n",
    "        print(f\"Prompt {counter}:\")\n",
    "        print(generated_answer)\n",
    "        counter += 1\n",
    "        \n",
    "    \n",
    "  \n",
    "   \n"
   ]
  },
  {
   "cell_type": "code",
   "execution_count": null,
   "id": "4f6a00a6",
   "metadata": {},
   "outputs": [
    {
     "data": {
      "application/vnd.jupyter.widget-view+json": {
       "model_id": "50752037d92d46f2bba209cdad6d3fc3",
       "version_major": 2,
       "version_minor": 0
      },
      "text/plain": [
       "Loading checkpoint shards:   0%|          | 0/2 [00:00<?, ?it/s]"
      ]
     },
     "metadata": {},
     "output_type": "display_data"
    }
   ],
   "source": [
    "from transformers import pipeline\n",
    "\n",
    "pipe = pipeline(\"text-generation\", model=\"meta-llama/Llama-3.2-3B\")   "
   ]
  },
  {
   "cell_type": "code",
   "execution_count": null,
   "id": "bce44655",
   "metadata": {},
   "outputs": [],
   "source": [
    "# Load model/tokenizer\n",
    "model_8b = 'meta-llama/Meta-Llama-3-8B'\n",
    "model_1b_instruct = 'meta-llama/Llama-3.2-1B-Instruct'\n",
    "model_1b = 'meta-llama/Llama-3.2-1B'\n",
    "model_3b = 'meta-llama/Llama-3.2-3B'\n",
    "\n",
    "model_id = model_1b_instruct\n",
    "\n",
    "tokenizer = AutoTokenizer.from_pretrained(model_id)\n",
    "model = AutoModelForCausalLM.from_pretrained(\n",
    "    model_id,\n",
    "    device_map=\"cuda\",\n",
    "    torch_dtype=torch.float16\n",
    ")\n",
    "tokenizer.pad_token = tokenizer.eos_token  # Required\n",
    "model.config.pad_token_id = tokenizer.pad_token_id\n",
    "\n",
    "print(\"Tokenizer and model loaded successfully.\")"
   ]
  },
  {
   "cell_type": "code",
   "execution_count": 6,
   "id": "820205be",
   "metadata": {},
   "outputs": [
    {
     "data": {
      "text/plain": [
       "Dataset({\n",
       "    features: ['pubid', 'question', 'context', 'long_answer', 'final_decision'],\n",
       "    num_rows: 211269\n",
       "})"
      ]
     },
     "execution_count": 6,
     "metadata": {},
     "output_type": "execute_result"
    }
   ],
   "source": [
    "# load dataset\n",
    "dataset = load_dataset(\"qiaojin/PubMedQA\", \"pqa_artificial\")[\"train\"]\n",
    "dataset"
   ]
  },
  {
   "cell_type": "code",
   "execution_count": 7,
   "id": "60855e5d",
   "metadata": {},
   "outputs": [],
   "source": [
    "check_dataset = dataset.select(range(2000))\n",
    "dataset = check_dataset"
   ]
  },
  {
   "cell_type": "code",
   "execution_count": 8,
   "id": "6d007f4c",
   "metadata": {},
   "outputs": [
    {
     "data": {
      "text/plain": [
       "Dataset({\n",
       "    features: ['pubid', 'question', 'context', 'long_answer', 'final_decision'],\n",
       "    num_rows: 2000\n",
       "})"
      ]
     },
     "execution_count": 8,
     "metadata": {},
     "output_type": "execute_result"
    }
   ],
   "source": [
    "dataset"
   ]
  },
  {
   "cell_type": "code",
   "execution_count": null,
   "id": "8dbe2072",
   "metadata": {},
   "outputs": [],
   "source": [
    "def make_tokenize(tokenizer):\n",
    "    def tokenize(examples):\n",
    "        \n",
    "        question = examples['question']\n",
    "        contexts = examples['context']['contexts']\n",
    "        context = \"\\n\".join([f\"Context {i+1}: {c}\" for i, c in enumerate(contexts)])\n",
    "        # prompt= (\n",
    "        # f\"Contexts:\\n{context}\\n\\n\"\n",
    "        # \"Based on the contexts above, answer the question below with 'yes', 'no', or 'maybe'.\\n\"\n",
    "        # \"Then, provide a short explanation that justifies your answer using evidence from the context.\\n\"\n",
    "        # f\"Question: {question}\\n\"\n",
    "        # )\n",
    "        \n",
    "        prompt = (\n",
    "                f\"Contexts:\\n{context}\\n\\n\"\n",
    "                \"Based on the contexts above, answer the question below with 'yes', 'no', or 'maybe'.\\n\"\n",
    "                \"Then, provide a short explanation that justifies your answer using evidence from the context.\\n\"\n",
    "                f\"Question: {question}\\n\"\n",
    "                f\"Answer: {examples['final_decision']}\\n\"\n",
    "                f\"Explanation: {examples['long_answer']}\\n\"\n",
    "            )\n",
    "        return tokenizer(prompt,truncation=True)\n",
    "    return tokenize\n",
    "\n",
    "\n",
    "def eval_collator(batch, tokenizer):\n",
    "  input_ids = pad_sequence([torch.tensor(x['input_ids']) for x in batch], batch_first=True,padding_value=tokenizer.pad_token_id)\n",
    "  attention_mask = pad_sequence([torch.tensor(x['attention_mask']) for x in batch], batch_first=True, padding_value=0)\n",
    "  answer = ([x['final_decision'] for x in batch])\n",
    "  return {'input_ids': input_ids, 'attention_mask': attention_mask, 'answer': answer}\n"
   ]
  },
  {
   "cell_type": "code",
   "execution_count": null,
   "id": "7e700795",
   "metadata": {},
   "outputs": [],
   "source": []
  },
  {
   "cell_type": "code",
   "execution_count": 44,
   "id": "02226f4f",
   "metadata": {},
   "outputs": [
    {
     "name": "stderr",
     "output_type": "stream",
     "text": [
      "Setting `pad_token_id` to `eos_token_id`:128001 for open-end generation.\n"
     ]
    },
    {
     "name": "stdout",
     "output_type": "stream",
     "text": [
      "{'pubid': 25429730, 'question': 'Are group 2 innate lymphoid cells ( ILC2s ) increased in chronic rhinosinusitis with nasal polyps or eosinophilia?', 'context': {'contexts': ['Chronic rhinosinusitis (CRS) is a heterogeneous disease with an uncertain pathogenesis. Group 2 innate lymphoid cells (ILC2s) represent a recently discovered cell population which has been implicated in driving Th2 inflammation in CRS; however, their relationship with clinical disease characteristics has yet to be investigated.', 'The aim of this study was to identify ILC2s in sinus mucosa in patients with CRS and controls and compare ILC2s across characteristics of disease.', 'A cross-sectional study of patients with CRS undergoing endoscopic sinus surgery was conducted. Sinus mucosal biopsies were obtained during surgery and control tissue from patients undergoing pituitary tumour resection through transphenoidal approach. ILC2s were identified as CD45(+) Lin(-) CD127(+) CD4(-) CD8(-) CRTH2(CD294)(+) CD161(+) cells in single cell suspensions through flow cytometry. ILC2 frequencies, measured as a percentage of CD45(+) cells, were compared across CRS phenotype, endotype, inflammatory CRS subtype and other disease characteristics including blood eosinophils, serum IgE, asthma status and nasal symptom score.', '35 patients (40% female, age 48 ± 17 years) including 13 with eosinophilic CRS (eCRS), 13 with non-eCRS and 9 controls were recruited. ILC2 frequencies were associated with the presence of nasal polyps (P = 0.002) as well as high tissue eosinophilia (P = 0.004) and eosinophil-dominant CRS (P = 0.001) (Mann-Whitney U). They were also associated with increased blood eosinophilia (P = 0.005). There were no significant associations found between ILC2s and serum total IgE and allergic disease. In the CRS with nasal polyps (CRSwNP) population, ILC2s were increased in patients with co-existing asthma (P = 0.03). ILC2s were also correlated with worsening nasal symptom score in CRS (P = 0.04).'], 'labels': ['BACKGROUND', 'OBJECTIVE', 'METHODS', 'RESULTS'], 'meshes': ['Adult', 'Aged', 'Antigens, Surface', 'Case-Control Studies', 'Chronic Disease', 'Eosinophilia', 'Female', 'Humans', 'Hypersensitivity', 'Immunity, Innate', 'Immunoglobulin E', 'Immunophenotyping', 'Leukocyte Count', 'Lymphocyte Subsets', 'Male', 'Middle Aged', 'Nasal Mucosa', 'Nasal Polyps', 'Neutrophil Infiltration', 'Patient Outcome Assessment', 'Rhinitis', 'Sinusitis', 'Young Adult']}, 'long_answer': 'As ILC2s are elevated in patients with CRSwNP, they may drive nasal polyp formation in CRS. ILC2s are also linked with high tissue and blood eosinophilia and have a potential role in the activation and survival of eosinophils during the Th2 immune response. The association of innate lymphoid cells in CRS provides insights into its pathogenesis.', 'final_decision': 'yes'}\n"
     ]
    },
    {
     "name": "stderr",
     "output_type": "stream",
     "text": [
      "Setting `pad_token_id` to `eos_token_id`:128001 for open-end generation.\n"
     ]
    },
    {
     "name": "stdout",
     "output_type": "stream",
     "text": [
      "Contexts:\n",
      "Context 1: Chronic rhinosinusitis (CRS) is a heterogeneous disease with an uncertain pathogenesis. Group 2 innate lymphoid cells (ILC2s) represent a recently discovered cell population which has been implicated in driving Th2 inflammation in CRS; however, their relationship with clinical disease characteristics has yet to be investigated.\n",
      "Context 2: The aim of this study was to identify ILC2s in sinus mucosa in patients with CRS and controls and compare ILC2s across characteristics of disease.\n",
      "Context 3: A cross-sectional study of patients with CRS undergoing endoscopic sinus surgery was conducted. Sinus mucosal biopsies were obtained during surgery and control tissue from patients undergoing pituitary tumour resection through transphenoidal approach. ILC2s were identified as CD45(+) Lin(-) CD127(+) CD4(-) CD8(-) CRTH2(CD294)(+) CD161(+) cells in single cell suspensions through flow cytometry. ILC2 frequencies, measured as a percentage of CD45(+) cells, were compared across CRS phenotype, endotype, inflammatory CRS subtype and other disease characteristics including blood eosinophils, serum IgE, asthma status and nasal symptom score.\n",
      "Context 4: 35 patients (40% female, age 48 ± 17 years) including 13 with eosinophilic CRS (eCRS), 13 with non-eCRS and 9 controls were recruited. ILC2 frequencies were associated with the presence of nasal polyps (P = 0.002) as well as high tissue eosinophilia (P = 0.004) and eosinophil-dominant CRS (P = 0.001) (Mann-Whitney U). They were also associated with increased blood eosinophilia (P = 0.005). There were no significant associations found between ILC2s and serum total IgE and allergic disease. In the CRS with nasal polyps (CRSwNP) population, ILC2s were increased in patients with co-existing asthma (P = 0.03). ILC2s were also correlated with worsening nasal symptom score in CRS (P = 0.04).\n",
      "\n",
      "Question: Are group 2 innate lymphoid cells ( ILC2s ) increased in chronic rhinosinusitis with nasal polyps or eosinophilia??\n",
      "\n",
      "Based on the contexts and the question above answer only yes/no/maybe based on context provided\n",
      "Answer: ILC2s are increased in chronic rhinosinusitis with nasal polyps or eosinophilia\n",
      "{'pubid': 25433161, 'question': 'Does vagus nerve contribute to the development of steatohepatitis and obesity in phosphatidylethanolamine N-methyltransferase deficient mice?', 'context': {'contexts': ['Phosphatidylethanolamine N-methyltransferase (PEMT), a liver enriched enzyme, is responsible for approximately one third of hepatic phosphatidylcholine biosynthesis. When fed a high-fat diet (HFD), Pemt(-/-) mice are protected from HF-induced obesity; however, they develop steatohepatitis. The vagus nerve relays signals between liver and brain that regulate peripheral adiposity and pancreas function. Here we explore a possible role of the hepatic branch of the vagus nerve in the development of diet induced obesity and steatohepatitis in Pemt(-/-) mice.', '8-week old Pemt(-/-) and Pemt(+/+) mice were subjected to hepatic vagotomy (HV) or capsaicin treatment, which selectively disrupts afferent nerves, and were compared to sham-operated or vehicle-treatment, respectively. After surgery, mice were fed a HFD for 10 weeks.', 'HV abolished the protection against the HFD-induced obesity and glucose intolerance in Pemt(-/-) mice. HV normalized phospholipid content and prevented steatohepatitis in Pemt(-/-) mice. Moreover, HV increased the hepatic anti-inflammatory cytokine interleukin-10, reduced chemokine monocyte chemotactic protein-1 and the ER stress marker C/EBP homologous protein. Furthermore, HV normalized the expression of mitochondrial electron transport chain proteins and of proteins involved in fatty acid synthesis, acetyl-CoA carboxylase and fatty acid synthase in Pemt(-/-) mice. However, disruption of the hepatic afferent vagus nerve by capsaicin failed to reverse either the protection against the HFD-induced obesity or the development of HF-induced steatohepatitis in Pemt(-/-) mice.'], 'labels': ['OBJECTIVE', 'METHODS', 'RESULTS'], 'meshes': ['Animals', 'Chemokine CCL2', 'Diet, High-Fat', 'Disease Models, Animal', 'Fatty Liver', 'Interleukin-10', 'Liver', 'Mice', 'Obesity', 'Phosphatidylcholines', 'Phosphatidylethanolamine N-Methyltransferase', 'Postoperative Period', 'Transcription Factor CHOP', 'Vagotomy', 'Vagus Nerve']}, 'long_answer': 'Neuronal signals via the hepatic vagus nerve contribute to the development of steatohepatitis and protection against obesity in HFD fed Pemt(-/-) mice.', 'final_decision': 'yes'}\n"
     ]
    },
    {
     "name": "stderr",
     "output_type": "stream",
     "text": [
      "Setting `pad_token_id` to `eos_token_id`:128001 for open-end generation.\n"
     ]
    },
    {
     "name": "stdout",
     "output_type": "stream",
     "text": [
      "Contexts:\n",
      "Context 1: Phosphatidylethanolamine N-methyltransferase (PEMT), a liver enriched enzyme, is responsible for approximately one third of hepatic phosphatidylcholine biosynthesis. When fed a high-fat diet (HFD), Pemt(-/-) mice are protected from HF-induced obesity; however, they develop steatohepatitis. The vagus nerve relays signals between liver and brain that regulate peripheral adiposity and pancreas function. Here we explore a possible role of the hepatic branch of the vagus nerve in the development of diet induced obesity and steatohepatitis in Pemt(-/-) mice.\n",
      "Context 2: 8-week old Pemt(-/-) and Pemt(+/+) mice were subjected to hepatic vagotomy (HV) or capsaicin treatment, which selectively disrupts afferent nerves, and were compared to sham-operated or vehicle-treatment, respectively. After surgery, mice were fed a HFD for 10 weeks.\n",
      "Context 3: HV abolished the protection against the HFD-induced obesity and glucose intolerance in Pemt(-/-) mice. HV normalized phospholipid content and prevented steatohepatitis in Pemt(-/-) mice. Moreover, HV increased the hepatic anti-inflammatory cytokine interleukin-10, reduced chemokine monocyte chemotactic protein-1 and the ER stress marker C/EBP homologous protein. Furthermore, HV normalized the expression of mitochondrial electron transport chain proteins and of proteins involved in fatty acid synthesis, acetyl-CoA carboxylase and fatty acid synthase in Pemt(-/-) mice. However, disruption of the hepatic afferent vagus nerve by capsaicin failed to reverse either the protection against the HFD-induced obesity or the development of HF-induced steatohepatitis in Pemt(-/-) mice.\n",
      "\n",
      "Question: Does vagus nerve contribute to the development of steatohepatitis and obesity in phosphatidylethanolamine N-methyltransferase deficient mice??\n",
      "\n",
      "Based on the contexts and the question above answer only yes/no/maybe based on context provided\n",
      "Answer: Yes\n",
      "Explanation: Vagus nerve relays signals between liver and brain that regulate peripheral adiposity and\n",
      "{'pubid': 25445714, 'question': 'Does psammaplin A induce Sirtuin 1-dependent autophagic cell death in doxorubicin-resistant MCF-7/adr human breast cancer cells and xenografts?', 'context': {'contexts': ['Psammaplin A (PsA) is a natural product isolated from marine sponges, which has been demonstrated to have anticancer activity against several human cancer cell lines via the induction of cell cycle arrest and apoptosis. New drugs that are less toxic and more effective against multidrug-resistant cancers are urgently needed.', 'We tested cell proliferation, cell cycle progression and autophagic cell death pathway in doxorubicin-resistant MCF-7 (MCF-7/adr) human breast cancer cells. The potency of PsA was further determined using an in vivo xenograft model.'], 'labels': ['BACKGROUND', 'METHODS'], 'meshes': ['Acetylation', 'Animals', 'Antibiotics, Antineoplastic', 'Autophagy', 'Breast Neoplasms', 'Cell Division', 'Cell Line, Tumor', 'Disulfides', 'Doxorubicin', 'Drug Resistance, Neoplasm', 'Female', 'G2 Phase', 'Gene Expression Regulation, Neoplastic', 'Heterografts', 'Humans', 'Membrane Proteins', 'Mice', 'Mice, Nude', 'Neoplasm Transplantation', 'Sirtuin 1', 'Tumor Suppressor Protein p53', 'Tyrosine', 'Xenograft Model Antitumor Assays']}, 'long_answer': 'PsA significantly inhibited MCF-7/adr cells proliferation in a concentration-dependent manner, with accumulation of cells in G2/M phase of the cell cycle. PsA significantly decreased SIRT1 enzyme activity and reduced expression of SIRT1 protein in the cultured cells with greater potency than sirtinol or salermide. Acetylation of p53, a putative target of SIRT1, increased significantly following PsA treatment. In addition, PsA markedly increased the expression levels of autophagy-related proteins. In support of this, it was found that PsA significantly increased the expression of damage-regulated autophagy modulator (DRAM), a p53-induced protein.', 'final_decision': 'yes'}\n"
     ]
    },
    {
     "name": "stderr",
     "output_type": "stream",
     "text": [
      "Setting `pad_token_id` to `eos_token_id`:128001 for open-end generation.\n"
     ]
    },
    {
     "name": "stdout",
     "output_type": "stream",
     "text": [
      "Contexts:\n",
      "Context 1: Psammaplin A (PsA) is a natural product isolated from marine sponges, which has been demonstrated to have anticancer activity against several human cancer cell lines via the induction of cell cycle arrest and apoptosis. New drugs that are less toxic and more effective against multidrug-resistant cancers are urgently needed.\n",
      "Context 2: We tested cell proliferation, cell cycle progression and autophagic cell death pathway in doxorubicin-resistant MCF-7 (MCF-7/adr) human breast cancer cells. The potency of PsA was further determined using an in vivo xenograft model.\n",
      "\n",
      "Question: Does psammaplin A induce Sirtuin 1-dependent autophagic cell death in doxorubicin-resistant MCF-7/adr human breast cancer cells and xenografts??\n",
      "\n",
      "Based on the contexts and the question above answer only yes/no/maybe based on context provided\n",
      "Answer: Yes, it induces Sirtuin 1-dependent autophagic cell death in doxorubicin\n",
      "{'pubid': 25431941, 'question': 'Is methylation of the FGFR2 gene associated with high birth weight centile in humans?', 'context': {'contexts': ['This study examined links between DNA methylation and birth weight centile (BWC), and explored the impact of genetic variation.', 'Using HumanMethylation450 arrays, we examined candidate gene-associated CpGs in cord blood from newborns with low (<15th centile), medium (40-60th centile) and high (>85th centile) BWC (n = 12). Candidates were examined in an investigation cohort (n = 110) using pyrosequencing and genotyping for putative methylation-associated polymorphisms performed using standard PCR.', 'Array analysis identified 314 candidate genes associated with BWC extremes, four of which showed ≥ 4 BWC-linked CpGs. Of these, PM20D1 and MI886 suggested genetically determined methylation levels. However, methylation at three CpGs in FGFR2 remained significantly associated with high BWC (p = 0.004-0.027).'], 'labels': ['OBJECTIVE', 'METHODS', 'RESULTS'], 'meshes': []}, 'long_answer': 'We identified a novel biologically plausible candidate (FGFR2) for with BWC that merits further study.', 'final_decision': 'yes'}\n"
     ]
    },
    {
     "name": "stderr",
     "output_type": "stream",
     "text": [
      "Setting `pad_token_id` to `eos_token_id`:128001 for open-end generation.\n"
     ]
    },
    {
     "name": "stdout",
     "output_type": "stream",
     "text": [
      "Contexts:\n",
      "Context 1: This study examined links between DNA methylation and birth weight centile (BWC), and explored the impact of genetic variation.\n",
      "Context 2: Using HumanMethylation450 arrays, we examined candidate gene-associated CpGs in cord blood from newborns with low (<15th centile), medium (40-60th centile) and high (>85th centile) BWC (n = 12). Candidates were examined in an investigation cohort (n = 110) using pyrosequencing and genotyping for putative methylation-associated polymorphisms performed using standard PCR.\n",
      "Context 3: Array analysis identified 314 candidate genes associated with BWC extremes, four of which showed ≥ 4 BWC-linked CpGs. Of these, PM20D1 and MI886 suggested genetically determined methylation levels. However, methylation at three CpGs in FGFR2 remained significantly associated with high BWC (p = 0.004-0.027).\n",
      "\n",
      "Question: Is methylation of the FGFR2 gene associated with high birth weight centile in humans??\n",
      "\n",
      "Based on the contexts and the question above answer only yes/no/maybe based on context provided\n",
      "Answer: Yes\n",
      "\n",
      "Explanation:\n",
      "This study examined links between DNA methylation and birth weight centile (BWC\n",
      "{'pubid': 25432519, 'question': 'Do tumor-infiltrating immune cell profiles and their change after neoadjuvant chemotherapy predict response and prognosis of breast cancer?', 'context': {'contexts': ['Tumor microenvironment immunity is associated with breast cancer outcome. A high lymphocytic infiltration has been associated with response to neoadjuvant chemotherapy, but the contribution to response and prognosis of immune cell subpopulations profiles in both pre-treated and post-treatment residual tumor is still unclear.', 'We analyzed pre- and post-treatment tumor-infiltrating immune cells (CD3, CD4, CD8, CD20, CD68, Foxp3) by immunohistochemistry in a series of 121 breast cancer patients homogeneously treated with neoadjuvant chemotherapy. Immune cell profiles were analyzed and correlated with response and survival.', 'We identified three tumor-infiltrating immune cell profiles, which were able to predict pathological complete response (pCR) to neoadjuvant chemotherapy (cluster B: 58%, versus clusters A and C: 7%). A higher infiltration by CD4 lymphocytes was the main factor explaining the occurrence of pCR, and this association was validated in six public genomic datasets. A higher chemotherapy effect on lymphocytic infiltration, including an inversion of CD4/CD8 ratio, was associated with pCR and with better prognosis. Analysis of the immune infiltrate in post-chemotherapy residual tumor identified a profile (cluster Y), mainly characterized by high CD3 and CD68 infiltration, with a worse disease free survival.'], 'labels': ['BACKGROUND', 'METHODS', 'RESULTS'], 'meshes': ['Adult', 'Aged', 'Anthracyclines', 'Antibodies, Monoclonal, Humanized', 'Antigens, CD', 'Antigens, CD20', 'Antigens, Differentiation, Myelomonocytic', 'Antineoplastic Agents', 'Breast Neoplasms', 'CD3 Complex', 'CD4 Antigens', 'CD8 Antigens', 'Carcinoma, Ductal, Breast', 'Female', 'Forkhead Transcription Factors', 'Humans', 'Lymphocytes, Tumor-Infiltrating', 'Middle Aged', 'Neoadjuvant Therapy', 'Prognosis', 'Taxoids', 'Trastuzumab', 'Tumor Microenvironment', 'Young Adult']}, 'long_answer': 'Breast cancer immune cell subpopulation profiles, determined by immunohistochemistry-based computerized analysis, identify groups of patients characterized by high response (in the pre-treatment setting) and poor prognosis (in the post-treatment setting). Further understanding of the mechanisms underlying the distribution of immune cells and their changes after chemotherapy may contribute to the development of new immune-targeted therapies for breast cancer.', 'final_decision': 'yes'}\n"
     ]
    },
    {
     "name": "stderr",
     "output_type": "stream",
     "text": [
      "Setting `pad_token_id` to `eos_token_id`:128001 for open-end generation.\n"
     ]
    },
    {
     "name": "stdout",
     "output_type": "stream",
     "text": [
      "Contexts:\n",
      "Context 1: Tumor microenvironment immunity is associated with breast cancer outcome. A high lymphocytic infiltration has been associated with response to neoadjuvant chemotherapy, but the contribution to response and prognosis of immune cell subpopulations profiles in both pre-treated and post-treatment residual tumor is still unclear.\n",
      "Context 2: We analyzed pre- and post-treatment tumor-infiltrating immune cells (CD3, CD4, CD8, CD20, CD68, Foxp3) by immunohistochemistry in a series of 121 breast cancer patients homogeneously treated with neoadjuvant chemotherapy. Immune cell profiles were analyzed and correlated with response and survival.\n",
      "Context 3: We identified three tumor-infiltrating immune cell profiles, which were able to predict pathological complete response (pCR) to neoadjuvant chemotherapy (cluster B: 58%, versus clusters A and C: 7%). A higher infiltration by CD4 lymphocytes was the main factor explaining the occurrence of pCR, and this association was validated in six public genomic datasets. A higher chemotherapy effect on lymphocytic infiltration, including an inversion of CD4/CD8 ratio, was associated with pCR and with better prognosis. Analysis of the immune infiltrate in post-chemotherapy residual tumor identified a profile (cluster Y), mainly characterized by high CD3 and CD68 infiltration, with a worse disease free survival.\n",
      "\n",
      "Question: Do tumor-infiltrating immune cell profiles and their change after neoadjuvant chemotherapy predict response and prognosis of breast cancer??\n",
      "\n",
      "Based on the contexts and the question above answer only yes/no/maybe based on context provided\n",
      "Answer: Yes, a higher infiltration by CD4 lymphocytes was the main factor explaining the occurrence of pCR\n",
      "{'pubid': 25440440, 'question': 'Is hidradenitis suppurativa a systemic disease with substantial comorbidity burden : a chart-verified case-control analysis?', 'context': {'contexts': ['Hidradenitis suppurativa (HS) is a chronic inflammatory disease involving intertriginous skin. Previous epidemiologic studies have been limited by small sample size.', 'We sought to describe the prevalence and comorbidities of HS in a large patient care database.', 'In this retrospective case-control study, we chart-validated all patients within a hospital database who received at least 1 billing code for HS between 1980 and 2013. Verified cases were matched with controls based on age, gender, and race. Prevalences of a priori selected comorbidities were compared between HS and control groups.', 'A total of 2292 patients at Massachusetts General Hospital received at least 1 code for HS. A total of 1776 cases had a validated diagnosis of HS, yielding a prevalence of 0.08%. In unadjusted analysis, all comorbidities were diagnosed significantly more in HS compared with control including (in rank order of likelihood): smoking, arthropathies, dyslipidemia, polycystic ovarian syndrome, psychiatric disorders, obesity, drug dependence, hypertension, diabetes, thyroid disease, alcohol dependence, and lymphoma (all P < .01).'], 'labels': ['BACKGROUND', 'OBJECTIVE', 'METHODS', 'RESULTS'], 'meshes': ['Adult', 'Aged', 'Alcoholism', 'Case-Control Studies', 'Comorbidity', 'Databases, Factual', 'Diabetes Mellitus', 'Dyslipidemias', 'Female', 'Hidradenitis Suppurativa', 'Humans', 'Hypertension', 'Lymphoma', 'Male', 'Middle Aged', 'Obesity', 'Prevalence', 'Retrospective Studies', 'Smoking', 'Substance-Related Disorders', 'Thyroid Diseases']}, 'long_answer': 'Control subjects were not validated for absence of HS and comorbidity validation was not performed for either group.', 'final_decision': 'yes'}\n"
     ]
    },
    {
     "name": "stderr",
     "output_type": "stream",
     "text": [
      "Setting `pad_token_id` to `eos_token_id`:128001 for open-end generation.\n"
     ]
    },
    {
     "name": "stdout",
     "output_type": "stream",
     "text": [
      "Contexts:\n",
      "Context 1: Hidradenitis suppurativa (HS) is a chronic inflammatory disease involving intertriginous skin. Previous epidemiologic studies have been limited by small sample size.\n",
      "Context 2: We sought to describe the prevalence and comorbidities of HS in a large patient care database.\n",
      "Context 3: In this retrospective case-control study, we chart-validated all patients within a hospital database who received at least 1 billing code for HS between 1980 and 2013. Verified cases were matched with controls based on age, gender, and race. Prevalences of a priori selected comorbidities were compared between HS and control groups.\n",
      "Context 4: A total of 2292 patients at Massachusetts General Hospital received at least 1 code for HS. A total of 1776 cases had a validated diagnosis of HS, yielding a prevalence of 0.08%. In unadjusted analysis, all comorbidities were diagnosed significantly more in HS compared with control including (in rank order of likelihood): smoking, arthropathies, dyslipidemia, polycystic ovarian syndrome, psychiatric disorders, obesity, drug dependence, hypertension, diabetes, thyroid disease, alcohol dependence, and lymphoma (all P < .01).\n",
      "\n",
      "Question: Is hidradenitis suppurativa a systemic disease with substantial comorbidity burden : a chart-verified case-control analysis??\n",
      "\n",
      "Based on the contexts and the question above answer only yes/no/maybe based on context provided\n",
      "Answer: Yes, HS is a systemic disease with substantial comorbidity burden\n",
      "Explanation: HS is a chronic\n",
      "{'pubid': 25444977, 'question': 'Does reference range for serum and salivary testosterone in young men of Mediterranean region?', 'context': {'contexts': ['The interassay variability found in the measurement of testosterone (T) levels warrants the need for laboratories to validate their methods to establish trustworthy cut-off points for diagnosis of male hypogonadism. The aims of this study were to validate measurement of total T (TT) at our laboratory in order to obtain reference ranges for TT, calculated free T (CFT), calculated bioavailable T (CBT), and salivary T (ST) in healthy young men from the Mediterranean region, and to evaluate the potential clinical value of ST by establishing its correlation with serum T.', 'An observational, cross-sectional study with sequential sampling.', 'men aged 18-30 years with body mass index (BMI)<30.', \"chronic diseases, hepatic insufficiency or use of drugs altering circulating T levels. Main outcome measures TT (chemiluminescent immunoassay UniCell DXI 800 [Access T Beckman Coulter]), CFT and CBT (Vermeulen's formula), and ST (radioimmunoassay for serum TT modified for saliva [Coat-A-Count, Siemens]). Descriptive statistical analyses and correlation by Spearman's rho (SPSS 19.0 Inc., Chicago) were used.\", 'One hundred and twenty-one subjects aged 24±3.6 years with BMI 24±2.5 kg/m(2) were enrolled. Hormone study: TT, 19±5.5 nmol/L (reference range [rr.] 9.7-33.3); CFT, 0.38 nmol/L (rr. 0.22-0.79); CBT, 9.7 nmol/L (rr. 4.9-19.2); and ST, 0.35 nmol/L (rr. 0.19-0.68). Correlation between ST and CFT was 0.46.'], 'labels': ['OBJECTIVE', 'METHODS', 'METHODS', 'METHODS', 'RESULTS'], 'meshes': ['Adolescent', 'Adult', 'Body Mass Index', 'Cross-Sectional Studies', 'Humans', 'Hypogonadism', 'Luminescent Measurements', 'Male', 'Mediterranean Region', 'Radioimmunoassay', 'Reference Values', 'Saliva', 'Testosterone', 'Young Adult']}, 'long_answer': 'In men from the Mediterranean region, values of TT>9.7 nmol/L, CFT>0.22 nmol/L, and/or CBT>4.9 nmol/L make the presence of biochemical hypogonadism unlikely. According to the correlation between serum and ST, the clinical value of ST remains to be established.', 'final_decision': 'yes'}\n"
     ]
    },
    {
     "name": "stderr",
     "output_type": "stream",
     "text": [
      "Setting `pad_token_id` to `eos_token_id`:128001 for open-end generation.\n"
     ]
    },
    {
     "name": "stdout",
     "output_type": "stream",
     "text": [
      "Contexts:\n",
      "Context 1: The interassay variability found in the measurement of testosterone (T) levels warrants the need for laboratories to validate their methods to establish trustworthy cut-off points for diagnosis of male hypogonadism. The aims of this study were to validate measurement of total T (TT) at our laboratory in order to obtain reference ranges for TT, calculated free T (CFT), calculated bioavailable T (CBT), and salivary T (ST) in healthy young men from the Mediterranean region, and to evaluate the potential clinical value of ST by establishing its correlation with serum T.\n",
      "Context 2: An observational, cross-sectional study with sequential sampling.\n",
      "Context 3: men aged 18-30 years with body mass index (BMI)<30.\n",
      "Context 4: chronic diseases, hepatic insufficiency or use of drugs altering circulating T levels. Main outcome measures TT (chemiluminescent immunoassay UniCell DXI 800 [Access T Beckman Coulter]), CFT and CBT (Vermeulen's formula), and ST (radioimmunoassay for serum TT modified for saliva [Coat-A-Count, Siemens]). Descriptive statistical analyses and correlation by Spearman's rho (SPSS 19.0 Inc., Chicago) were used.\n",
      "Context 5: One hundred and twenty-one subjects aged 24±3.6 years with BMI 24±2.5 kg/m(2) were enrolled. Hormone study: TT, 19±5.5 nmol/L (reference range [rr.] 9.7-33.3); CFT, 0.38 nmol/L (rr. 0.22-0.79); CBT, 9.7 nmol/L (rr. 4.9-19.2); and ST, 0.35 nmol/L (rr. 0.19-0.68). Correlation between ST and CFT was 0.46.\n",
      "\n",
      "Question: Does reference range for serum and salivary testosterone in young men of Mediterranean region??\n",
      "\n",
      "Based on the contexts and the question above answer only yes/no/maybe based on context provided\n",
      "Answer: Yes\n",
      "Explanation: The study found a strong correlation between serum and salivary T levels in healthy\n",
      "{'pubid': 25429648, 'question': 'Are secretory phospholipases A2 secreted from ciliated cells and increase mucin and eicosanoid secretion from goblet cells?', 'context': {'contexts': ['Secretory phospholipases A2 (sPLA2) initiate the biosynthesis of eicosanoids, are increased in the airways of people with severe asthma, and induce mucin hypersecretion. We used IL-13-transformed, highly enriched goblet cells and differentiated (ciliary cell-enriched) human bronchial epithelial cell culture to evaluate the relative contribution of ciliated and goblet cells to airway sPLA2 generation and response. We wished to determine the primary source(s) of sPLA2 and leukotrienes in human airway epithelial cells.', 'Human bronchial epithelial cells from subjects without lung disease were differentiated to a ciliated-enriched or goblet-enriched cell phenotype. Synthesis of sPLA2, cysteinyl leukotrienes (cysLTs), and airway mucin messenger RNA and protein was measured by real-time-polymerase chain reaction and an enzyme-linked immunosorbent assay, and the localization of mucin and sPLA2 to specific cells types was confirmed by confocal microscopy.', 'sPLA2 group IIa, V, and X messenger RNA expression was increased in ciliated-enriched cells (P < .001) but not in goblet-enriched cells. sPLA2 were secreted from the apical (air) side of ciliated-enriched cells but not goblet-enriched cells (P < .001). Immunostaining of sPLA2 V was strongly positive in ciliated-enriched cells but not in goblet-enriched cells. sPLA2 released cysLTs from goblet-enriched cells but not from ciliated-enriched cells, and this result was greatest with sPLA2 V (P < .05). sPLA2 V increased goblet-enriched cell mucin secretion, which was inhibited by inhibitors of lipoxygenase or cyclooxygenase (P < .02).'], 'labels': ['BACKGROUND', 'METHODS', 'RESULTS'], 'meshes': ['Bronchi', 'Cell Differentiation', 'Cells, Cultured', 'Cilia', 'Dinoprostone', 'Eicosanoids', 'Epithelial Cells', 'Goblet Cells', 'Humans', 'Interleukin-13', 'Interleukin-8', 'Leukotrienes', 'Mucins', 'Paracrine Communication', 'Phospholipases A2']}, 'long_answer': 'sPLA2 are secreted from ciliated cells and appear to induce mucin and cysLT secretion from goblet cells, strongly suggesting that airway goblet cells are proinflammatory effector cells.', 'final_decision': 'yes'}\n"
     ]
    },
    {
     "name": "stderr",
     "output_type": "stream",
     "text": [
      "Setting `pad_token_id` to `eos_token_id`:128001 for open-end generation.\n",
      "Setting `pad_token_id` to `eos_token_id`:128001 for open-end generation.\n"
     ]
    },
    {
     "name": "stdout",
     "output_type": "stream",
     "text": [
      "Contexts:\n",
      "Context 1: Secretory phospholipases A2 (sPLA2) initiate the biosynthesis of eicosanoids, are increased in the airways of people with severe asthma, and induce mucin hypersecretion. We used IL-13-transformed, highly enriched goblet cells and differentiated (ciliary cell-enriched) human bronchial epithelial cell culture to evaluate the relative contribution of ciliated and goblet cells to airway sPLA2 generation and response. We wished to determine the primary source(s) of sPLA2 and leukotrienes in human airway epithelial cells.\n",
      "Context 2: Human bronchial epithelial cells from subjects without lung disease were differentiated to a ciliated-enriched or goblet-enriched cell phenotype. Synthesis of sPLA2, cysteinyl leukotrienes (cysLTs), and airway mucin messenger RNA and protein was measured by real-time-polymerase chain reaction and an enzyme-linked immunosorbent assay, and the localization of mucin and sPLA2 to specific cells types was confirmed by confocal microscopy.\n",
      "Context 3: sPLA2 group IIa, V, and X messenger RNA expression was increased in ciliated-enriched cells (P < .001) but not in goblet-enriched cells. sPLA2 were secreted from the apical (air) side of ciliated-enriched cells but not goblet-enriched cells (P < .001). Immunostaining of sPLA2 V was strongly positive in ciliated-enriched cells but not in goblet-enriched cells. sPLA2 released cysLTs from goblet-enriched cells but not from ciliated-enriched cells, and this result was greatest with sPLA2 V (P < .05). sPLA2 V increased goblet-enriched cell mucin secretion, which was inhibited by inhibitors of lipoxygenase or cyclooxygenase (P < .02).\n",
      "\n",
      "Question: Are secretory phospholipases A2 secreted from ciliated cells and increase mucin and eicosanoid secretion from goblet cells??\n",
      "\n",
      "Based on the contexts and the question above answer only yes/no/maybe based on context provided\n",
      "Answer: Yes\n",
      "\n",
      "Explanation of the answer above:\n",
      "Secretory phospholipases A2 (sPLA\n",
      "{'pubid': 25424148, 'question': 'Is admission hyperglycemia associated with failed reperfusion following fibrinolytic therapy in patients with STEMI : results of a retrospective study?', 'context': {'contexts': ['Hyperglycemia on admission is associated with increased mortality rates in patients with ST-elevation myocardial infarction (STEMI) who are treated with either fibrinolytic therapy (FT) or primary percutaneous coronary intervention (PCI). However, data regarding the relationship between hyperglycemia and the success of FT are lacking. The aim of this study was to investigate the value of admission blood glucose for the prediction of failed reperfusion following FT.', 'This is a retrospective study of 304 STEMI patients who received FT and whose admission glucose levels were recorded. The main outcome measure was ST segment resolution≥50%. The median (interquartile range [IQR]) blood glucose level in the entire study group was 112 (95-153). In 92 (30.2%) patients, FT was unsuccessful and rescue PCI was performed. Admission glucose (126 [99-192] vs. 110 [94-144] mg/dL, p<0.001), time from symptom onset to FT (180 [120-270] vs. 150 [120-180] min, p=0.009), and maximum ST elevation amplitude (3 [2-7] vs. 3 [2-6] mm, p=0.05) were higher in the failed reperfusion group than in the reperfusion group. Admission hyperglycemia was an independent predictive factor for failed reperfusion (hazard ratio 4.79 [1.80-12.76], p=0.002), along with time from symptom onset to fibrinolysis and anterior wall myocardial infarction.'], 'labels': ['BACKGROUND', 'RESULTS'], 'meshes': ['Adult', 'Angina Pectoris, Variant', 'Combined Modality Therapy', 'Coronary Circulation', 'Electrocardiography', 'Female', 'Humans', 'Hyperglycemia', 'Incidence', 'Male', 'Middle Aged', 'Myocardial Infarction', 'Myocardial Reperfusion Injury', 'Patient Admission', 'Percutaneous Coronary Intervention', 'Prevalence', 'Prognosis', 'Retrospective Studies', 'Risk Factors', 'Thrombolytic Therapy', 'Time-to-Treatment', 'Turkey']}, 'long_answer': 'In patients with STEMI who undergo FT, admission hyperglycemia is an independent predictor of the failure of fibrinolysis.', 'final_decision': 'yes'}\n",
      "Contexts:\n",
      "Context 1: Hyperglycemia on admission is associated with increased mortality rates in patients with ST-elevation myocardial infarction (STEMI) who are treated with either fibrinolytic therapy (FT) or primary percutaneous coronary intervention (PCI). However, data regarding the relationship between hyperglycemia and the success of FT are lacking. The aim of this study was to investigate the value of admission blood glucose for the prediction of failed reperfusion following FT.\n",
      "Context 2: This is a retrospective study of 304 STEMI patients who received FT and whose admission glucose levels were recorded. The main outcome measure was ST segment resolution≥50%. The median (interquartile range [IQR]) blood glucose level in the entire study group was 112 (95-153). In 92 (30.2%) patients, FT was unsuccessful and rescue PCI was performed. Admission glucose (126 [99-192] vs. 110 [94-144] mg/dL, p<0.001), time from symptom onset to FT (180 [120-270] vs. 150 [120-180] min, p=0.009), and maximum ST elevation amplitude (3 [2-7] vs. 3 [2-6] mm, p=0.05) were higher in the failed reperfusion group than in the reperfusion group. Admission hyperglycemia was an independent predictive factor for failed reperfusion (hazard ratio 4.79 [1.80-12.76], p=0.002), along with time from symptom onset to fibrinolysis and anterior wall myocardial infarction.\n",
      "\n",
      "Question: Is admission hyperglycemia associated with failed reperfusion following fibrinolytic therapy in patients with STEMI : results of a retrospective study??\n",
      "\n",
      "Based on the contexts and the question above answer only yes/no/maybe based on context provided\n",
      "Answer: Yes\n",
      "{'pubid': 25447560, 'question': 'Do systematic Reviews Published in Emergency Medicine Journals Routinely Search Clinical Trials Registries : A Cross-Sectional Analysis?', 'context': {'contexts': ['Publication bias compromises the validity of systematic reviews. This problem can be addressed in part through searching clinical trials registries to identify unpublished studies. This study aims to determine how often systematic reviews published in emergency medicine journals include clinical trials registry searches.', 'We identified all systematic reviews published in the 6 highest-impact emergency medicine journals between January 1 and December 31, 2013. Systematic reviews that assessed the effects of an intervention were further examined to determine whether the authors described searching a clinical trials registry and whether this search identified relevant unpublished studies.', 'Of 191 articles identified through PubMed search, 80 were confirmed to be systematic reviews. Our sample consisted of 41 systematic reviews that assessed a specific intervention. Eight of these 41 (20%) searched a clinical trials registry. For 4 of these 8 reviews, the registry search identified at least 1 relevant unpublished study.'], 'labels': ['OBJECTIVE', 'METHODS', 'RESULTS'], 'meshes': ['Clinical Trials as Topic', 'Cross-Sectional Studies', 'Emergency Medicine', 'Humans', 'Journal Impact Factor', 'Periodicals as Topic', 'Registries', 'Review Literature as Topic']}, 'long_answer': 'Systematic reviews published in emergency medicine journals do not routinely include searches of clinical trials registries. By helping authors identify unpublished trial data, the addition of registry searches may improve the validity of systematic reviews.', 'final_decision': 'no'}\n"
     ]
    },
    {
     "name": "stderr",
     "output_type": "stream",
     "text": [
      "Setting `pad_token_id` to `eos_token_id`:128001 for open-end generation.\n"
     ]
    },
    {
     "name": "stdout",
     "output_type": "stream",
     "text": [
      "Contexts:\n",
      "Context 1: Publication bias compromises the validity of systematic reviews. This problem can be addressed in part through searching clinical trials registries to identify unpublished studies. This study aims to determine how often systematic reviews published in emergency medicine journals include clinical trials registry searches.\n",
      "Context 2: We identified all systematic reviews published in the 6 highest-impact emergency medicine journals between January 1 and December 31, 2013. Systematic reviews that assessed the effects of an intervention were further examined to determine whether the authors described searching a clinical trials registry and whether this search identified relevant unpublished studies.\n",
      "Context 3: Of 191 articles identified through PubMed search, 80 were confirmed to be systematic reviews. Our sample consisted of 41 systematic reviews that assessed a specific intervention. Eight of these 41 (20%) searched a clinical trials registry. For 4 of these 8 reviews, the registry search identified at least 1 relevant unpublished study.\n",
      "\n",
      "Question: Do systematic Reviews Published in Emergency Medicine Journals Routinely Search Clinical Trials Registries : A Cross-Sectional Analysis??\n",
      "\n",
      "Based on the contexts and the question above answer only yes/no/maybe based on context provided\n",
      "Answer: Yes\n",
      "Explanation: Yes\n",
      "In the context of the question above, this study aimed to determine how\n",
      "{'pubid': 25447567, 'question': 'Do obese patients with idiopathic pulmonary fibrosis have a higher 90-day mortality risk with bilateral lung transplantation?', 'context': {'contexts': ['Obese patients with idiopathic pulmonary fibrosis (IPF) have higher 90-day mortality after lung transplantation. We sought to determine whether body mass index (BMI) differentially modified the effect of transplant procedure type on 90-day mortality in IPF patients.', 'We analyzed data from the Organ Procurement and Transplantation Network (OPTN) for all patients with IPF who were transplanted between 2000 and 2010. Post-transplant survival was examined using Kaplan-Meier estimates. Multivariable logistic regression modeling was used to determine the difference in 90-day survival. The primary variable of interest was the interaction term between body mass index (BMI) and transplant type.', 'A total of 3,389 (58% single-lung transplant [SLT] and 42% bilateral lung transplant [BLT]) subjects were included. Multivariable logistic regression modeling demonstrated a statistically significant interaction between BMI and transplant type (p = 0.047). Patients with a BMI > 30 kg/m(2) who received a BLT are 1.71 times (95% CI [1.03 to 2.85], p = 0.038) more likely to die within 90 days than BLT recipients with a BMI of 18.5 to 30 kg/m(2).'], 'labels': ['BACKGROUND', 'METHODS', 'RESULTS'], 'meshes': ['Aged', 'Body Mass Index', 'Female', 'Follow-Up Studies', 'Graft Survival', 'Humans', 'Idiopathic Pulmonary Fibrosis', 'Kaplan-Meier Estimate', 'Lung Transplantation', 'Male', 'Middle Aged', 'Obesity', 'Postoperative Period', 'Retrospective Studies', 'Risk Assessment', 'Risk Factors', 'Survival Rate', 'Time Factors', 'Washington']}, 'long_answer': 'Our results suggest that obese patients who receive a BLT may be at higher risk of 90-day mortality compared with patients of normal weight. Further study is needed to obtain more detailed information about comorbidities and other risk factors for early death that are not included in the OPTN database.', 'final_decision': 'yes'}\n"
     ]
    },
    {
     "name": "stderr",
     "output_type": "stream",
     "text": [
      "Setting `pad_token_id` to `eos_token_id`:128001 for open-end generation.\n"
     ]
    },
    {
     "name": "stdout",
     "output_type": "stream",
     "text": [
      "Contexts:\n",
      "Context 1: Obese patients with idiopathic pulmonary fibrosis (IPF) have higher 90-day mortality after lung transplantation. We sought to determine whether body mass index (BMI) differentially modified the effect of transplant procedure type on 90-day mortality in IPF patients.\n",
      "Context 2: We analyzed data from the Organ Procurement and Transplantation Network (OPTN) for all patients with IPF who were transplanted between 2000 and 2010. Post-transplant survival was examined using Kaplan-Meier estimates. Multivariable logistic regression modeling was used to determine the difference in 90-day survival. The primary variable of interest was the interaction term between body mass index (BMI) and transplant type.\n",
      "Context 3: A total of 3,389 (58% single-lung transplant [SLT] and 42% bilateral lung transplant [BLT]) subjects were included. Multivariable logistic regression modeling demonstrated a statistically significant interaction between BMI and transplant type (p = 0.047). Patients with a BMI > 30 kg/m(2) who received a BLT are 1.71 times (95% CI [1.03 to 2.85], p = 0.038) more likely to die within 90 days than BLT recipients with a BMI of 18.5 to 30 kg/m(2).\n",
      "\n",
      "Question: Do obese patients with idiopathic pulmonary fibrosis have a higher 90-day mortality risk with bilateral lung transplantation??\n",
      "\n",
      "Based on the contexts and the question above answer only yes/no/maybe based on context provided\n",
      "Answer: Yes\n",
      "Explanation: The question is asking if obese patients with IPF have a higher 90-day\n",
      "{'pubid': 25445624, 'question': 'Does promoter variant rs2301228 on the neural cell adhesion molecule 1 gene confer risk of schizophrenia in Han Chinese?', 'context': {'contexts': ['Schizophrenia is recognized as a disorder of the brain and neuronal connectivity. The neural cell adhesion molecule 1 (NCAM1) gene plays a crucial role in regulating neuronal connectivity.', 'We conducted a two-stage association analysis on 17 NCAM1 SNPs in two independent Han Chinese schizophrenia case-control cohorts (discovery sample from Hunan Province: 986 patients and 1040 normal controls; replication sample from Yunnan Province: 564 cases and 547 healthy controls). Allele, genotype and haplotype frequencies were compared between case and control samples. Transcription factor binding site prediction and luciferase reporter assays were employed to assess the potential function of promoter SNPs. We detected developmental changes at the transcriptional level of NCAM1 during neuron differentiation in Macaca mulatta neural progenitor cells (NPC). Serum levels of NCAM1 were measured in 72 cases and 88 controls.', 'A promoter variant, rs2301228, was found to be associated with schizophrenia at the allelic level and was validated in a replication cohort. Luciferase reporter assays demonstrated that risk allele rs2301228-A significantly down-regulated NCAM1 gene transcription compared to the G-allele. Concordantly, schizophrenia patients had a significantly lower level of serum NCAM1 compared to healthy donors. During the NPC neuronal differentiation, NCAM1 mRNA was significantly increased, suggesting a critical role of this gene in neural development.'], 'labels': ['BACKGROUND', 'METHODS', 'RESULTS'], 'meshes': ['Adult', 'Animals', 'Asian Continental Ancestry Group', 'CD56 Antigen', 'Case-Control Studies', 'Cells, Cultured', 'China', 'Female', 'Genetic Predisposition to Disease', 'Haplotypes', 'Humans', 'Macaca mulatta', 'Male', 'Neural Cell Adhesion Molecules', 'Neural Stem Cells', 'Neurogenesis', 'Polymorphism, Single Nucleotide', 'Promoter Regions, Genetic', 'RNA, Messenger', 'Schizophrenia']}, 'long_answer': 'Our results provide direct evidence for NCAM1 as a susceptibility gene for schizophrenia, which offers support to a neurodevelopmental model and neuronal connectivity hypothesis in the onset of schizophrenia.', 'final_decision': 'yes'}\n"
     ]
    },
    {
     "name": "stderr",
     "output_type": "stream",
     "text": [
      "Setting `pad_token_id` to `eos_token_id`:128001 for open-end generation.\n"
     ]
    },
    {
     "name": "stdout",
     "output_type": "stream",
     "text": [
      "Contexts:\n",
      "Context 1: Schizophrenia is recognized as a disorder of the brain and neuronal connectivity. The neural cell adhesion molecule 1 (NCAM1) gene plays a crucial role in regulating neuronal connectivity.\n",
      "Context 2: We conducted a two-stage association analysis on 17 NCAM1 SNPs in two independent Han Chinese schizophrenia case-control cohorts (discovery sample from Hunan Province: 986 patients and 1040 normal controls; replication sample from Yunnan Province: 564 cases and 547 healthy controls). Allele, genotype and haplotype frequencies were compared between case and control samples. Transcription factor binding site prediction and luciferase reporter assays were employed to assess the potential function of promoter SNPs. We detected developmental changes at the transcriptional level of NCAM1 during neuron differentiation in Macaca mulatta neural progenitor cells (NPC). Serum levels of NCAM1 were measured in 72 cases and 88 controls.\n",
      "Context 3: A promoter variant, rs2301228, was found to be associated with schizophrenia at the allelic level and was validated in a replication cohort. Luciferase reporter assays demonstrated that risk allele rs2301228-A significantly down-regulated NCAM1 gene transcription compared to the G-allele. Concordantly, schizophrenia patients had a significantly lower level of serum NCAM1 compared to healthy donors. During the NPC neuronal differentiation, NCAM1 mRNA was significantly increased, suggesting a critical role of this gene in neural development.\n",
      "\n",
      "Question: Does promoter variant rs2301228 on the neural cell adhesion molecule 1 gene confer risk of schizophrenia in Han Chinese??\n",
      "\n",
      "Based on the contexts and the question above answer only yes/no/maybe based on context provided\n",
      "Answer: Maybe\n",
      "Explanation: This is a very interesting question, as it is difficult to say with certainty whether\n",
      "{'pubid': 25445628, 'question': 'Are [ Higher nitric oxide levels associated with disease activity in Egyptian rheumatoid arthritis patients ]?', 'context': {'contexts': ['Oxidative stress generated within inflammatory joints can produce autoimmune phenomena and joint destruction. Radical species with oxidative activity, including reactive nitrogen species, represent mediators of inflammation and cartilage damage.', 'To assess serum nitric oxide as a marker of oxidative stress in Egyptian patients with rheumatoid arthritis and its relation to disease activity.', '80 patients with rheumatoid arthritis were divided into 2 groups, according to the DAS-28 score: Group I: 42 patients with disease activity, and Group II: 38 patients with no disease activity. Forty age- and sex-matched individuals were included as control group (Group III). Routine laboratory investigations were done, and nitric oxide was measured using Elisa. Hand plain radiographies were done for radiological status scoring using the Sharp method.', 'A comparison between nitric oxide in all three groups showed a highly significant difference (p < 0.001), significantly higher levels were obtained among rheumatoid arthritis patients in comparison to controls, and higher levels were obtained in patients with active disease (mean±SD 82.38±20.46) in comparison to patients without active disease (35.53±7.15). Nitric oxide in Group I showed a significant positive correlation with morning stiffness (r=0.45), arthritis (r=0.43), platelet count (r=0.46), erythrocyte sedimentation rate (r=0.83), C-reactive protein (r=0.76) and Disease Activity Score (r=0.85). Nitric oxide showed a significant positive correlation (r=0.43) with hand radiographies (Sharp score) in Group I.'], 'labels': ['BACKGROUND', 'OBJECTIVE', 'METHODS', 'RESULTS'], 'meshes': ['Adult', 'Arthritis, Rheumatoid', 'Biomarkers', 'Cross-Sectional Studies', 'Egypt', 'Female', 'Humans', 'Male', 'Middle Aged', 'Nitric Oxide']}, 'long_answer': 'There are increased levels of nitric oxide in the serum of patients with rheumatoid arthritis. Nitric oxide correlates significantly with disease activity, inflammatory markers and radiological joint status.', 'final_decision': 'yes'}\n"
     ]
    },
    {
     "name": "stderr",
     "output_type": "stream",
     "text": [
      "Setting `pad_token_id` to `eos_token_id`:128001 for open-end generation.\n"
     ]
    },
    {
     "name": "stdout",
     "output_type": "stream",
     "text": [
      "Contexts:\n",
      "Context 1: Oxidative stress generated within inflammatory joints can produce autoimmune phenomena and joint destruction. Radical species with oxidative activity, including reactive nitrogen species, represent mediators of inflammation and cartilage damage.\n",
      "Context 2: To assess serum nitric oxide as a marker of oxidative stress in Egyptian patients with rheumatoid arthritis and its relation to disease activity.\n",
      "Context 3: 80 patients with rheumatoid arthritis were divided into 2 groups, according to the DAS-28 score: Group I: 42 patients with disease activity, and Group II: 38 patients with no disease activity. Forty age- and sex-matched individuals were included as control group (Group III). Routine laboratory investigations were done, and nitric oxide was measured using Elisa. Hand plain radiographies were done for radiological status scoring using the Sharp method.\n",
      "Context 4: A comparison between nitric oxide in all three groups showed a highly significant difference (p < 0.001), significantly higher levels were obtained among rheumatoid arthritis patients in comparison to controls, and higher levels were obtained in patients with active disease (mean±SD 82.38±20.46) in comparison to patients without active disease (35.53±7.15). Nitric oxide in Group I showed a significant positive correlation with morning stiffness (r=0.45), arthritis (r=0.43), platelet count (r=0.46), erythrocyte sedimentation rate (r=0.83), C-reactive protein (r=0.76) and Disease Activity Score (r=0.85). Nitric oxide showed a significant positive correlation (r=0.43) with hand radiographies (Sharp score) in Group I.\n",
      "\n",
      "Question: Are [ Higher nitric oxide levels associated with disease activity in Egyptian rheumatoid arthritis patients ]??\n",
      "\n",
      "Based on the contexts and the question above answer only yes/no/maybe based on context provided\n",
      "Answer: Yes\n",
      "\n",
      "Explanation: Oxidative stress generated within inflammatory joints can produce autoimmune phenomena and joint destruction.\n",
      "{'pubid': 25432781, 'question': 'Does increased Syk phosphorylation lead to overexpression of TRAF6 in peripheral B cells of patients with systemic lupus erythematosus?', 'context': {'contexts': ['Activation of B cells is a hallmark of systemic lupus erythematosus (SLE). Syk and TRAF6 are key signaling molecules in B-cell activation through BCR and CD40/TLR, respectively. Nevertheless, whether expression of Syk and TRAF6 is altered in SLE B cells remains unknown.', 'Phosphorylation and/or expression of Syk and TRAF6 were analyzed by flow cytometry in peripheral blood mononuclear cells isolated from SLE patients.', 'Pronounced phosphorylation and expression of Syk were noted in B cells from SLE patients compared with healthy donors. Levels of Syk phosphorylation correlated with the disease activity score. TRAF6 was significantly over-expressed in B cells of SLE patients as compared with healthy donors, and significant correlation of levels of TRAF6 expression and Syk phosphorylation was observed in SLE patients. Levels of TRAF6 expression were more pronounced in CD27+ memory B cells than in CD27-naïve B cells. In vitro treatment of SLE B cells with a Syk inhibitor (BAY61-3606) reduced Syk phosphorylation as well as TRAF6 expression.'], 'labels': ['OBJECTIVE', 'METHODS', 'RESULTS'], 'meshes': ['Adolescent', 'Adult', 'Antigens, CD19', 'B-Lymphocytes', 'Case-Control Studies', 'Female', 'Flow Cytometry', 'Humans', 'Intracellular Signaling Peptides and Proteins', 'Lupus Erythematosus, Systemic', 'Lymphocyte Activation', 'Male', 'Middle Aged', 'Neoplasm Proteins', 'Niacinamide', 'Phosphorylation', 'Protein-Tyrosine Kinases', 'Pyrimidines', 'Syk Kinase', 'Tumor Necrosis Factor Receptor Superfamily, Member 7', 'Young Adult']}, 'long_answer': 'Our results suggest that the activated Syk-mediated TRAF6 pathway leads to aberrant activation of B cells in SLE, and also highlight Syk as a potential target for B-cell-mediated processes in SLE.', 'final_decision': 'yes'}\n"
     ]
    },
    {
     "name": "stderr",
     "output_type": "stream",
     "text": [
      "Setting `pad_token_id` to `eos_token_id`:128001 for open-end generation.\n"
     ]
    },
    {
     "name": "stdout",
     "output_type": "stream",
     "text": [
      "Contexts:\n",
      "Context 1: Activation of B cells is a hallmark of systemic lupus erythematosus (SLE). Syk and TRAF6 are key signaling molecules in B-cell activation through BCR and CD40/TLR, respectively. Nevertheless, whether expression of Syk and TRAF6 is altered in SLE B cells remains unknown.\n",
      "Context 2: Phosphorylation and/or expression of Syk and TRAF6 were analyzed by flow cytometry in peripheral blood mononuclear cells isolated from SLE patients.\n",
      "Context 3: Pronounced phosphorylation and expression of Syk were noted in B cells from SLE patients compared with healthy donors. Levels of Syk phosphorylation correlated with the disease activity score. TRAF6 was significantly over-expressed in B cells of SLE patients as compared with healthy donors, and significant correlation of levels of TRAF6 expression and Syk phosphorylation was observed in SLE patients. Levels of TRAF6 expression were more pronounced in CD27+ memory B cells than in CD27-naïve B cells. In vitro treatment of SLE B cells with a Syk inhibitor (BAY61-3606) reduced Syk phosphorylation as well as TRAF6 expression.\n",
      "\n",
      "Question: Does increased Syk phosphorylation lead to overexpression of TRAF6 in peripheral B cells of patients with systemic lupus erythematosus??\n",
      "\n",
      "Based on the contexts and the question above answer only yes/no/maybe based on context provided\n",
      "Answer: Yes\n",
      "Explanation: Increased Syk phosphorylation leads to overexpression of TRAF6 in peripheral B\n",
      "{'pubid': 25429481, 'question': 'Are reasons why erupted third molars extracted in a public university in Mexico?', 'context': {'contexts': ['The aim of this study was to determine the reasons for which erupted third molars (3M) are extracted in a sample of Mexican patients.', \"A retrospective cross-sectional study was performed on a sample of 83 patients attending exodontia (minor oral surgery) clinics of a public university in Mexico (Autonomous University of Hidalgo State). The outcome variable was the reason for extractions using Kay and Blinkhorn's classification. The independent variables were age, gender, arch and tooth number according to the World Health Organization (WHO). For statistical analysis, we used the Chi-squared test in Stata 9.0.\", 'Eighty-three patients underwent 150 3M extractions. Mean age was 38.67 ± 13.96 years, and 71.1% were female. The four reasons for 3M extraction were prosthetic (44.0%), followed by orthodontic (24.7%), dental caries (20.0%) and periodontal disease (11.3%). Differences were observed in the reasons for 3M extractions across age groups (p < 0.05). No significant differences existed between men and women (p > 0.05), or the WHO tooth number (p > 0.05).'], 'labels': ['OBJECTIVE', 'METHODS', 'RESULTS'], 'meshes': []}, 'long_answer': 'Women and patients 18 to 34 years of age had erupted 3M extracted more frequently, primarily for prosthetic reasons. The age profile indicated a trend in demand for services that differ from those of overall tooth extractions, but not for the trend across gender.', 'final_decision': 'yes'}\n",
      "Contexts:\n",
      "Context 1: The aim of this study was to determine the reasons for which erupted third molars (3M) are extracted in a sample of Mexican patients.\n",
      "Context 2: A retrospective cross-sectional study was performed on a sample of 83 patients attending exodontia (minor oral surgery) clinics of a public university in Mexico (Autonomous University of Hidalgo State). The outcome variable was the reason for extractions using Kay and Blinkhorn's classification. The independent variables were age, gender, arch and tooth number according to the World Health Organization (WHO). For statistical analysis, we used the Chi-squared test in Stata 9.0.\n",
      "Context 3: Eighty-three patients underwent 150 3M extractions. Mean age was 38.67 ± 13.96 years, and 71.1% were female. The four reasons for 3M extraction were prosthetic (44.0%), followed by orthodontic (24.7%), dental caries (20.0%) and periodontal disease (11.3%). Differences were observed in the reasons for 3M extractions across age groups (p < 0.05). No significant differences existed between men and women (p > 0.05), or the WHO tooth number (p > 0.05).\n",
      "\n",
      "Question: Are reasons why erupted third molars extracted in a public university in Mexico??\n",
      "\n",
      "Based on the contexts and the question above answer only yes/no/maybe based on context provided\n",
      "Answer: Yes\n",
      "Explanation: The aim of this study was to determine the reasons for which erupted third molars\n"
     ]
    }
   ],
   "source": [
    "\n",
    "for data in dataset.select(range(15)):\n",
    "    print(data)\n",
    "    question = data['question']\n",
    "    contexts = data['context']['contexts']\n",
    "    context = \"\\n\".join([f\"Context {i+1}: {c}\" for i, c in enumerate(contexts)])\n",
    "    prompt = (\n",
    "    f\"Contexts:\\n{context}\\n\\n\"\n",
    "    f\"Question: {question}?\\n\\n\"\n",
    "    \"Based on the contexts and the question above answer only yes/no/maybe based on context provided\\n\"\n",
    "    \"Answer:\"\n",
    "    )\n",
    "\n",
    "    # print(prompt)\n",
    "\n",
    "    generated_answer = pipe(prompt)\n",
    "\n",
    "    print(generated_answer[0]['generated_text'])\n"
   ]
  },
  {
   "cell_type": "code",
   "execution_count": 39,
   "id": "01df0218",
   "metadata": {},
   "outputs": [
    {
     "name": "stderr",
     "output_type": "stream",
     "text": [
      "Setting `pad_token_id` to `eos_token_id`:128001 for open-end generation.\n"
     ]
    }
   ],
   "source": [
    "ans = pipe(prompt)"
   ]
  },
  {
   "cell_type": "code",
   "execution_count": 40,
   "id": "5900a329",
   "metadata": {},
   "outputs": [
    {
     "name": "stdout",
     "output_type": "stream",
     "text": [
      "Contexts:\n",
      "Context 1: Chronic rhinosinusitis (CRS) is a heterogeneous disease with an uncertain pathogenesis. Group 2 innate lymphoid cells (ILC2s) represent a recently discovered cell population which has been implicated in driving Th2 inflammation in CRS; however, their relationship with clinical disease characteristics has yet to be investigated.\n",
      "Context 2: The aim of this study was to identify ILC2s in sinus mucosa in patients with CRS and controls and compare ILC2s across characteristics of disease.\n",
      "Context 3: A cross-sectional study of patients with CRS undergoing endoscopic sinus surgery was conducted. Sinus mucosal biopsies were obtained during surgery and control tissue from patients undergoing pituitary tumour resection through transphenoidal approach. ILC2s were identified as CD45(+) Lin(-) CD127(+) CD4(-) CD8(-) CRTH2(CD294)(+) CD161(+) cells in single cell suspensions through flow cytometry. ILC2 frequencies, measured as a percentage of CD45(+) cells, were compared across CRS phenotype, endotype, inflammatory CRS subtype and other disease characteristics including blood eosinophils, serum IgE, asthma status and nasal symptom score.\n",
      "Context 4: 35 patients (40% female, age 48 ± 17 years) including 13 with eosinophilic CRS (eCRS), 13 with non-eCRS and 9 controls were recruited. ILC2 frequencies were associated with the presence of nasal polyps (P = 0.002) as well as high tissue eosinophilia (P = 0.004) and eosinophil-dominant CRS (P = 0.001) (Mann-Whitney U). They were also associated with increased blood eosinophilia (P = 0.005). There were no significant associations found between ILC2s and serum total IgE and allergic disease. In the CRS with nasal polyps (CRSwNP) population, ILC2s were increased in patients with co-existing asthma (P = 0.03). ILC2s were also correlated with worsening nasal symptom score in CRS (P = 0.04).\n",
      "\n",
      "Question: Are group 2 innate lymphoid cells ( ILC2s ) increased in chronic rhinosinusitis with nasal polyps or eosinophilia??\n",
      "\n",
      "Based on the contexts and the question above answer only yes/no/maybe based on context provided\n",
      "Answer: Yes\n",
      "Explanation: The study investigated the relationship between ILC2s and clinical characteristics of CRS in\n"
     ]
    }
   ],
   "source": [
    "print(ans[0]['generated_text'])"
   ]
  },
  {
   "cell_type": "code",
   "execution_count": null,
   "id": "12e43942",
   "metadata": {},
   "outputs": [],
   "source": [
    "tokenized_dataset = dataset.map(make_tokenize(tokenizer), batched=False)\n"
   ]
  },
  {
   "cell_type": "code",
   "execution_count": null,
   "id": "5477d8d3",
   "metadata": {},
   "outputs": [],
   "source": [
    "tokenized_dataset"
   ]
  },
  {
   "cell_type": "code",
   "execution_count": null,
   "id": "d03d76a4",
   "metadata": {},
   "outputs": [],
   "source": [
    "val_dataloader = DataLoader(tokenized_dataset, batch_size=4, collate_fn=lambda batch: eval_collator(batch, tokenizer))\n"
   ]
  },
  {
   "cell_type": "code",
   "execution_count": null,
   "id": "916fa032",
   "metadata": {},
   "outputs": [],
   "source": [
    "# label encoding\n",
    "label_encoder = LabelEncoder()\n",
    "label_encoder.fit([\"yes\", \"no\", \"maybe\"])"
   ]
  },
  {
   "cell_type": "code",
   "execution_count": null,
   "id": "14ccd537",
   "metadata": {},
   "outputs": [],
   "source": [
    "label_encoder.transform([\"yes\", \"no\", \"maybe\"])"
   ]
  },
  {
   "cell_type": "code",
   "execution_count": null,
   "id": "5c0fefca",
   "metadata": {},
   "outputs": [],
   "source": []
  },
  {
   "cell_type": "code",
   "execution_count": null,
   "id": "a09e1415",
   "metadata": {},
   "outputs": [],
   "source": [
    "yes_token_id = tokenizer.encode('yes')[1]\n",
    "no_token_id = tokenizer.encode('no')[1]\n",
    "maybe_token_id = tokenizer.encode('maybe')[1]"
   ]
  },
  {
   "cell_type": "code",
   "execution_count": null,
   "id": "705f14f6",
   "metadata": {},
   "outputs": [],
   "source": [
    "yes_token_id, no_token_id, maybe_token_id"
   ]
  },
  {
   "cell_type": "code",
   "execution_count": null,
   "id": "f2d01d83",
   "metadata": {},
   "outputs": [],
   "source": [
    "y_pred, y_true  = evaluate_(model, val_dataloader, yes_token_id, no_token_id,maybe_token_id, label_encoder, 'cuda')"
   ]
  },
  {
   "cell_type": "code",
   "execution_count": null,
   "id": "5b4b2452",
   "metadata": {},
   "outputs": [],
   "source": [
    "from sklearn.metrics import accuracy_score, precision_recall_fscore_support\n",
    "\n",
    "# Accuracy\n",
    "acc = accuracy_score(y_true, y_pred)\n",
    "\n",
    "# Precision, Recall, F1 (macro average)\n",
    "precision, recall, f1, _ = precision_recall_fscore_support(y_true, y_pred, average='macro')\n",
    "\n",
    "print(f\"Accuracy: {acc:.4f}\")\n",
    "print(f\"Precision (macro): {precision:.4f}\")\n",
    "print(f\"Recall (macro): {recall:.4f}\")\n",
    "print(f\"F1 Score (macro): {f1:.4f}\")\n"
   ]
  },
  {
   "cell_type": "code",
   "execution_count": null,
   "id": "68acca23",
   "metadata": {},
   "outputs": [],
   "source": [
    "from sklearn.metrics import confusion_matrix\n",
    "import seaborn as sns\n",
    "import matplotlib.pyplot as plt\n",
    "\n",
    "# Confusion matrix\n",
    "cm = confusion_matrix(y_true, y_pred, labels=label_encoder.transform(['no', 'maybe', 'yes']))\n",
    "\n",
    "# Plot\n",
    "sns.heatmap(cm, annot=True, fmt='d', xticklabels=['no', 'maybe', 'yes'], yticklabels=['no', 'maybe', 'yes'])\n",
    "plt.xlabel('Predicted')\n",
    "plt.ylabel('True')\n",
    "plt.title('Confusion Matrix')\n",
    "plt.show()"
   ]
  },
  {
   "cell_type": "code",
   "execution_count": null,
   "id": "6e68f29b",
   "metadata": {},
   "outputs": [],
   "source": [
    "from sklearn.metrics import classification_report\n",
    "\n",
    "# Print detailed metrics per class\n",
    "print(classification_report(y_true, y_pred, target_names=label_encoder.classes_))"
   ]
  },
  {
   "cell_type": "code",
   "execution_count": null,
   "id": "e1a2dae0",
   "metadata": {},
   "outputs": [],
   "source": []
  }
 ],
 "metadata": {
  "kernelspec": {
   "display_name": "Python 3",
   "language": "python",
   "name": "python3"
  },
  "language_info": {
   "codemirror_mode": {
    "name": "ipython",
    "version": 3
   },
   "file_extension": ".py",
   "mimetype": "text/x-python",
   "name": "python",
   "nbconvert_exporter": "python",
   "pygments_lexer": "ipython3",
   "version": "3.10.17"
  }
 },
 "nbformat": 4,
 "nbformat_minor": 5
}
