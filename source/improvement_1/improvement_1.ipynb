{
 "cells": [
  {
   "cell_type": "code",
   "execution_count": null,
   "id": "7aa33bff",
   "metadata": {},
   "outputs": [],
   "source": [
    "############################################\n",
    "# Team : RAGrats\n",
    "# Team Members : Ali Asgar Padaria, Param Patel, Meet Zalavadiya\n",
    "# \n",
    "# Code Description : This file contains the code for the Improvement 1 Model\n",
    "#                    It implements the \"Debating Model\" concept. Two smaller models (Flan-t5-large & Qwen3-0.6B) than the basline 1 (llama 3 1B) are used as generators \n",
    "#                    for the explainaiton of the answer, these models debate till they reach a consensus or hit a roadblock of maximum debates iterations.\n",
    "#\n",
    "# NLP Concepts Usage: Tokenization, Embeddings (via retriever in vectorDB_generator.py), Language Modeling, Question Answering\n",
    "#\n",
    "# System : GCP Server L4 GPU\n",
    "#############################################"
   ]
  },
  {
   "cell_type": "code",
   "execution_count": null,
   "id": "baba4613",
   "metadata": {},
   "outputs": [
    {
     "name": "stderr",
     "output_type": "stream",
     "text": [
      "Note: Environment variable`HF_TOKEN` is set and is the current active token independently from the token you've just configured.\n"
     ]
    }
   ],
   "source": [
    "# Import Necessary Libraries\n",
    "\n",
    "import torch\n",
    "from transformers import AutoTokenizer, AutoModelForCausalLM, pipeline\n",
    "from datasets import load_dataset, load_from_disk\n",
    "from huggingface_hub import login\n",
    "from tqdm import tqdm\n",
    "from dotenv import load_dotenv\n",
    "import os\n",
    "load_dotenv()\n",
    "token = os.getenv(\"HF_TOKEN\")\n",
    "\n",
    "login(token=token)\n",
    "import torch.nn.functional as F\n",
    "\n",
    "from torch.nn.utils.rnn import pad_sequence\n",
    "from torch.utils.data import DataLoader\n",
    "from sklearn.preprocessing import LabelEncoder\n",
    "import numpy as np\n",
    "from transformers import pipeline\n",
    "\n",
    "from transformers import (\n",
    "    RobertaTokenizer,\n",
    "    AutoConfig,\n",
    "    AutoModel,\n",
    "    AutoModelForSequenceClassification,\n",
    "    AutoModelForSeq2SeqLM\n",
    ")\n",
    "\n",
    "from sklearn.metrics import accuracy_score\n",
    "import json\n",
    "\n",
    "import faiss"
   ]
  },
  {
   "cell_type": "code",
   "execution_count": null,
   "id": "ac179f7b",
   "metadata": {},
   "outputs": [],
   "source": [
    "assert torch.cuda.is_available(), \"GPU not available!\" # check GPU"
   ]
  },
  {
   "cell_type": "code",
   "execution_count": 3,
   "id": "642bf748",
   "metadata": {},
   "outputs": [],
   "source": [
    "# Loading Dataset Stuff\n",
    "\n",
    "# The retreived pairs for the validation set have already been created in the vectorDB_generator.ipynb file in the same folder\n",
    "\n",
    "validation_dataset = load_from_disk(\"../files/val_dataset\")\n",
    "\n",
    "with open(\"../files/val_retrieved_pairs_base_1.json\", \"r\") as f:\n",
    "    retreived_pairs = json.load(f)\n",
    "\n",
    "# dataset # holds final dataset\n",
    "context_map = {item[\"question\"]: item[\"retrieved_contexts\"] for item in retreived_pairs}\n",
    "\n",
    "def add_retrieved_contexts(example):\n",
    "    example[\"retrieved_contexts\"] = context_map[example[\"question\"]]\n",
    "    return example\n",
    "\n",
    "validation_dataset = validation_dataset.map(add_retrieved_contexts)"
   ]
  },
  {
   "cell_type": "code",
   "execution_count": null,
   "id": "13626c12",
   "metadata": {},
   "outputs": [
    {
     "name": "stderr",
     "output_type": "stream",
     "text": [
      "Device set to use cuda:0\n",
      "Device set to use cuda:0\n"
     ]
    }
   ],
   "source": [
    "# Load the model,\n",
    "# For the debating model architecture, we use the T5 model\n",
    "\n",
    "model_id_flan = \"google/flan-t5-large\"\n",
    "\n",
    "tokenizer_flan = AutoTokenizer.from_pretrained(model_id_flan)\n",
    "model_flan = AutoModelForSeq2SeqLM.from_pretrained(\n",
    "    model_id_flan,\n",
    "    torch_dtype=torch.float16,\n",
    "    device_map=\"auto\"  # loads onto GPU automatically\n",
    ")\n",
    "\n",
    "pipe_flan = pipeline(\n",
    "    \"text2text-generation\",\n",
    "    model=model_flan,\n",
    "    tokenizer=tokenizer_flan,\n",
    ")\n",
    "\n",
    "model_id_opt = \"Qwen/Qwen3-0.6B\"\n",
    "\n",
    "tokenizer_opt = AutoTokenizer.from_pretrained(model_id_opt)\n",
    "model_opt = AutoModelForCausalLM.from_pretrained( # NLP Concept : Language Modeling\n",
    "    model_id_opt,\n",
    "    device_map=\"auto\",\n",
    ")\n",
    "\n",
    "pipe_opt = pipeline(\n",
    "    \"text-generation\",\n",
    "    model=model_opt,\n",
    "    tokenizer=tokenizer_opt,\n",
    "    pad_token_id=tokenizer_opt.eos_token_id \n",
    ")"
   ]
  },
  {
   "cell_type": "code",
   "execution_count": 12,
   "id": "0f46b4f9",
   "metadata": {},
   "outputs": [],
   "source": [
    "# generate base prompts\n",
    "def generate_prompts(dataset):\n",
    "    prompts = []\n",
    "\n",
    "    for data in dataset:\n",
    "        question = data['question']\n",
    "        contexts = data['retrieved_contexts']\n",
    "        context = \"\\n\".join([f\"Context {i+1}: {c}\" for i, c in enumerate(contexts)])\n",
    "        prompt = (\n",
    "            f\"Contexts:\\n{context}\\n\\n\"\n",
    "            \"Based on the contexts above, answer the question below in yes or no.\\n\"\n",
    "            \"Provide a short explanation that justifies your answer using evidence from the context.\\n\"\n",
    "            f\"Question: {question}?\\n\"\n",
    "            \"Answer: \"\n",
    "        )\n",
    "        prompts.append(prompt)\n",
    "\n",
    "    \n",
    "    return prompts\n",
    "\n",
    "prompts = generate_prompts(validation_dataset)"
   ]
  },
  {
   "cell_type": "code",
   "execution_count": null,
   "id": "2022934c",
   "metadata": {},
   "outputs": [
    {
     "name": "stderr",
     "output_type": "stream",
     "text": [
      "Some weights of RobertaForSequenceClassification were not initialized from the model checkpoint at roberta-base and are newly initialized: ['classifier.dense.bias', 'classifier.dense.weight', 'classifier.out_proj.bias', 'classifier.out_proj.weight']\n",
      "You should probably TRAIN this model on a down-stream task to be able to use it for predictions and inference.\n",
      "/var/tmp/ipykernel_8041/1581541892.py:12: FutureWarning: You are using `torch.load` with `weights_only=False` (the current default value), which uses the default pickle module implicitly. It is possible to construct malicious pickle data which will execute arbitrary code during unpickling (See https://github.com/pytorch/pytorch/blob/main/SECURITY.md#untrusted-models for more details). In a future release, the default value for `weights_only` will be flipped to `True`. This limits the functions that could be executed during unpickling. Arbitrary objects will no longer be allowed to be loaded via this mode unless they are explicitly allowlisted by the user via `torch.serialization.add_safe_globals`. We recommend you start setting `weights_only=True` for any use case where you don't have full control of the loaded file. Please open an issue on GitHub for any issues related to this experimental feature.\n",
      "  classifer_model.load_state_dict(torch.load(\"../files/roberta_classifier.pt\", map_location=torch.device(\"cuda\")))  # or \"cuda\"\n"
     ]
    },
    {
     "data": {
      "text/plain": [
       "RobertaForSequenceClassification(\n",
       "  (roberta): RobertaModel(\n",
       "    (embeddings): RobertaEmbeddings(\n",
       "      (word_embeddings): Embedding(50265, 768, padding_idx=1)\n",
       "      (position_embeddings): Embedding(514, 768, padding_idx=1)\n",
       "      (token_type_embeddings): Embedding(1, 768)\n",
       "      (LayerNorm): LayerNorm((768,), eps=1e-05, elementwise_affine=True)\n",
       "      (dropout): Dropout(p=0.1, inplace=False)\n",
       "    )\n",
       "    (encoder): RobertaEncoder(\n",
       "      (layer): ModuleList(\n",
       "        (0-11): 12 x RobertaLayer(\n",
       "          (attention): RobertaAttention(\n",
       "            (self): RobertaSdpaSelfAttention(\n",
       "              (query): Linear(in_features=768, out_features=768, bias=True)\n",
       "              (key): Linear(in_features=768, out_features=768, bias=True)\n",
       "              (value): Linear(in_features=768, out_features=768, bias=True)\n",
       "              (dropout): Dropout(p=0.1, inplace=False)\n",
       "            )\n",
       "            (output): RobertaSelfOutput(\n",
       "              (dense): Linear(in_features=768, out_features=768, bias=True)\n",
       "              (LayerNorm): LayerNorm((768,), eps=1e-05, elementwise_affine=True)\n",
       "              (dropout): Dropout(p=0.1, inplace=False)\n",
       "            )\n",
       "          )\n",
       "          (intermediate): RobertaIntermediate(\n",
       "            (dense): Linear(in_features=768, out_features=3072, bias=True)\n",
       "            (intermediate_act_fn): GELUActivation()\n",
       "          )\n",
       "          (output): RobertaOutput(\n",
       "            (dense): Linear(in_features=3072, out_features=768, bias=True)\n",
       "            (LayerNorm): LayerNorm((768,), eps=1e-05, elementwise_affine=True)\n",
       "            (dropout): Dropout(p=0.1, inplace=False)\n",
       "          )\n",
       "        )\n",
       "      )\n",
       "    )\n",
       "  )\n",
       "  (classifier): RobertaClassificationHead(\n",
       "    (dense): Linear(in_features=768, out_features=768, bias=True)\n",
       "    (dropout): Dropout(p=0.1, inplace=False)\n",
       "    (out_proj): Linear(in_features=768, out_features=1, bias=True)\n",
       "  )\n",
       ")"
      ]
     },
     "execution_count": 6,
     "metadata": {},
     "output_type": "execute_result"
    }
   ],
   "source": [
    "# Initialize the Roberta model for classification\n",
    "\n",
    "tokenizer = AutoTokenizer.from_pretrained(\"roberta-base\") # NLP Concept : Tokenization and Embeddings\n",
    "\n",
    "# Define label mapping\n",
    "label_map = {\"yes\": 1, \"no\": 0}\n",
    "\n",
    "classifer_model = AutoModelForSequenceClassification.from_pretrained(\n",
    "        \"roberta-base\",\n",
    "        num_labels=1,\n",
    ")\n",
    "classifer_model.load_state_dict(torch.load(\"../files/roberta_classifier.pt\", map_location=torch.device(\"cuda\")))  # or \"cuda\"\n",
    "classifer_model.eval()"
   ]
  },
  {
   "cell_type": "code",
   "execution_count": null,
   "id": "958270f6",
   "metadata": {},
   "outputs": [],
   "source": [
    "def get_label(input_prompt):\n",
    "    with torch.no_grad():\n",
    "        # move the input to GPU\n",
    "        with torch.amp.autocast(device_type=\"cuda\", dtype=torch.float16):\n",
    "            inputs = tokenizer(\n",
    "                input_prompt,\n",
    "                truncation=True,\n",
    "                max_length=1024,\n",
    "                return_tensors=\"pt\"\n",
    "            )\n",
    "        # inputs = {k: torch.tensor(v).unsqueeze(0).to(\"cuda\") for k, v in inputs.items()}\n",
    "            outputs = classifer_model(**inputs)\n",
    "            logits = outputs.logits\n",
    "            probs = torch.sigmoid(logits)  # convert logits to probabilities\n",
    "            pred = (probs > 0.5).long()\n",
    "\n",
    "        return int(pred.cpu().squeeze().numpy())\n",
    "\n",
    "def generate_answer(prompt, pipe):\n",
    "\n",
    "    if pipe == pipe_flan:\n",
    "        generated = pipe(prompt, max_length=150)\n",
    "    else:\n",
    "        generated = pipe(prompt, max_new_tokens=150, return_full_text=False, do_sample=True, temperature=0.7, top_p=0.9, top_k=50)\n",
    "    answer = generated[0]['generated_text']\n",
    "    return answer"
   ]
  },
  {
   "cell_type": "code",
   "execution_count": null,
   "id": "6bd6652f",
   "metadata": {},
   "outputs": [],
   "source": [
    "def generate(dataset, start_id = 0, end_id =100,  max_iter = 3):\n",
    "    all_preds = []\n",
    "    all_labels = []\n",
    "    iteration_counter = 0\n",
    "    item_counter = 0\n",
    "    flag_encountered = 0\n",
    "    for data in tqdm(dataset.select(range(start_id, end_id))):\n",
    "        item_counter += 1\n",
    "        question = data['question']\n",
    "        contexts = data['retrieved_contexts']\n",
    "        context = \"\\n\".join([f\"Context {i+1}: {c}\" for i, c in enumerate(contexts)])\n",
    "        prompt = (\n",
    "            f\"Contexts:\\n{context}\\n\\n\"\n",
    "            \"Based on the contexts above, answer the question below in yes, no, maybe.\\n\"\n",
    "            \"Provide a short explanation that justifies your answer using evidence from the context.\\n\"\n",
    "            f\"Question: {question}?\\n\"\n",
    "            \"Answer: \"\n",
    "        )\n",
    "        all_labels.append(label_map[data['final_decision']])\n",
    "        flag = 0\n",
    "        prompt_1 = prompt\n",
    "        prompt_2 = prompt\n",
    "        for _ in range(max_iter):\n",
    "            iteration_counter += 1\n",
    "            # First model's answer\n",
    "            answer_1 = generate_answer(prompt_1, pipe_flan)\n",
    "            # Second model's answer\n",
    "            answer_2 = generate_answer(prompt_2, pipe_opt)\n",
    "            \n",
    "\n",
    "            # compare the RoBERTa labels of both models\n",
    "            label_1 = get_label(f\"{question}\\n{answer_1}\")\n",
    "            label_2 = get_label(f\"{question}\\n{answer_2}\")\n",
    "\n",
    "            if label_1 == label_2:\n",
    "                all_preds.append(label_1)\n",
    "                flag = 1\n",
    "                break\n",
    "            \n",
    "            ######\n",
    "            # Debate Mechanism | when labels do not match\n",
    "            prompt_1 += f\"\\n\\nModel 2 said:\\n{answer_2}\\n\\nDo you want to change your answer?\"\n",
    "            prompt_2 += f\"\\n\\nModel 1 said:\\n{answer_1}\\n\\nDo you want to change your answer?\"\n",
    "            ######\n",
    "        if flag == 0:\n",
    "            # default mode\n",
    "            flag_encountered += 1\n",
    "            final_label = get_label(f\"{question}\\n{answer_1}\\n{answer_2}\")\n",
    "            all_preds.append(final_label)\n",
    "    \n",
    "    return all_preds, all_labels, iteration_counter, item_counter, flag_encountered\n",
    "\n"
   ]
  },
  {
   "cell_type": "code",
   "execution_count": 39,
   "id": "56f68262",
   "metadata": {},
   "outputs": [],
   "source": [
    "all_preds = []\n",
    "all_labels = []\n",
    "iteration_counter = 0\n",
    "item_counter = 0\n",
    "flag_encountered = 0"
   ]
  },
  {
   "cell_type": "code",
   "execution_count": null,
   "id": "3516e1ac",
   "metadata": {},
   "outputs": [],
   "source": [
    "# with open(f\"validation_results_.json\", \"w\") as f:\n",
    "#     json.dump({\"check\":\"check\"}, f)"
   ]
  },
  {
   "cell_type": "code",
   "execution_count": 40,
   "id": "5db62c84",
   "metadata": {},
   "outputs": [
    {
     "name": "stderr",
     "output_type": "stream",
     "text": [
      "  0%|          | 0/100 [00:00<?, ?it/s]"
     ]
    },
    {
     "name": "stderr",
     "output_type": "stream",
     "text": [
      "100%|██████████| 100/100 [22:15<00:00, 13.35s/it]\n",
      "100%|██████████| 100/100 [22:11<00:00, 13.31s/it]\n",
      "100%|██████████| 100/100 [21:01<00:00, 12.62s/it]\n",
      "100%|██████████| 100/100 [20:39<00:00, 12.39s/it]\n",
      "100%|██████████| 100/100 [19:56<00:00, 11.96s/it]\n"
     ]
    }
   ],
   "source": [
    "for i in range(0,500, 100):\n",
    "    start_id = i\n",
    "    end_id = i + 100\n",
    "    preds, labels, iteration_counter_, item_counter_, flag_encountered_ = generate(validation_dataset, start_id = start_id, end_id=end_id, max_iter=3)\n",
    "    all_preds.extend(preds)\n",
    "    all_labels.extend(labels) \n",
    "    iteration_counter += iteration_counter_\n",
    "    item_counter += item_counter_\n",
    "    flag_encountered += flag_encountered_\n",
    "\n",
    "    # save all stuff in a json file\n",
    "    with open(f\"validation_results_.json\", \"w\") as f:\n",
    "        json.dump({\n",
    "            \"all_preds\": all_preds,\n",
    "            \"all_labels\": all_labels,\n",
    "            \"iteration_counter\": iteration_counter,\n",
    "            \"item_counter\": item_counter,\n",
    "            \"flag_encountered\": flag_encountered\n",
    "        }, f)\n"
   ]
  },
  {
   "cell_type": "code",
   "execution_count": 42,
   "id": "adb574d6",
   "metadata": {},
   "outputs": [
    {
     "name": "stdout",
     "output_type": "stream",
     "text": [
      "Average Debate Iterations : 1.55\n"
     ]
    }
   ],
   "source": [
    "print(\"Average Debate Iterations :\", iteration_counter/500)"
   ]
  },
  {
   "cell_type": "markdown",
   "id": "2d634897",
   "metadata": {},
   "source": [
    "Average Iterations per prompt were 1.55 which shows models did disagree on certain answers and they debated till they reached some sort of concensus"
   ]
  },
  {
   "cell_type": "code",
   "execution_count": 43,
   "id": "f7e25038",
   "metadata": {},
   "outputs": [
    {
     "name": "stdout",
     "output_type": "stream",
     "text": [
      "Accuracy: 69.80%\n"
     ]
    }
   ],
   "source": [
    "accuracy = accuracy_score(all_labels, all_preds)\n",
    "print(f\"Accuracy: {accuracy * 100:.2f}%\")"
   ]
  },
  {
   "cell_type": "markdown",
   "id": "e94051ca",
   "metadata": {},
   "source": [
    "Accuracy Achieved is 69.80%, which is around 3% lower than the original larger model. We believe it is because the smaller models even though they debate are not made for this task\n",
    "If we can scale up both the baselines and improved models, in an example case using 8B model for baseline and using 1B or 3B Llama models as improved debating consensus might very well outperform the 8B model but we were not able to try that due to resourse and time constrains these large models have."
   ]
  },
  {
   "cell_type": "markdown",
   "id": "b32bcdfd",
   "metadata": {},
   "source": []
  }
 ],
 "metadata": {
  "kernelspec": {
   "display_name": "Python 3",
   "language": "python",
   "name": "python3"
  },
  "language_info": {
   "codemirror_mode": {
    "name": "ipython",
    "version": 3
   },
   "file_extension": ".py",
   "mimetype": "text/x-python",
   "name": "python",
   "nbconvert_exporter": "python",
   "pygments_lexer": "ipython3",
   "version": "3.10.17"
  }
 },
 "nbformat": 4,
 "nbformat_minor": 5
}
