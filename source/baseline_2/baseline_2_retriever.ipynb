{
 "cells": [
  {
   "cell_type": "code",
   "execution_count": null,
   "id": "787d1386",
   "metadata": {},
   "outputs": [],
   "source": [
    "############################################\n",
    "# Team : RAGrats      \n",
    "# Team Members : Ali Asgar Padaria, Param Patel, Meet Zalavadiya\n",
    "#                    \n",
    "# Code Description : This file contains the code for the Baseline 2 Model - Specifically the retriever part\n",
    "#                    Here we create embeddings of all the contexts and store it in a VectorStore and extract top 5 relevant \n",
    "#                    embeddings for each of the question in the validation set. These are stored and used in the second \n",
    "#                    part of the baseline which is baseline_2_generation which generates explainatinos and classifies labels.\n",
    "#                    \n",
    "# NLP Concepts Usage: Tokenization, Embeddings\n",
    "#                       \n",
    "# System : GCP Server L4 GPU\n",
    "#############################################"
   ]
  },
  {
   "cell_type": "code",
   "execution_count": null,
   "id": "47c0741a",
   "metadata": {},
   "outputs": [],
   "source": [
    "# Import Necessary Libraries\n",
    "from transformers import AutoTokenizer, AutoModel\n",
    "import torch\n",
    "import faiss\n",
    "import numpy as np\n",
    "from collections import defaultdict\n",
    "from datasets import load_dataset\n",
    "from tqdm import tqdm\n",
    "from transformers import AutoModelForSeq2SeqLM, AutoModelForSequenceClassification\n",
    "import json\n",
    "from datasets import Dataset\n",
    "from torch.nn.utils.rnn import pad_sequence\n",
    "from torch.utils.data import DataLoader\n",
    "from datasets import load_from_disk\n",
    "import os\n",
    "import matplotlib.pyplot as plt\n",
    "from datasets import concatenate_datasets\n",
    "from sentence_transformers import SentenceTransformer"
   ]
  },
  {
   "cell_type": "code",
   "execution_count": null,
   "id": "3c34795a",
   "metadata": {},
   "outputs": [],
   "source": [
    "model = SentenceTransformer(\"sentence-transformers/all-MiniLM-L6-v2\") # NLP Concept : SentenceTransformer, Embeddings\n",
    "device = torch.device(\"cuda\" if torch.cuda.is_available() else \"cpu\")\n",
    "model = model.to(device)\n",
    "tokenizer = model.tokenizer"
   ]
  },
  {
   "cell_type": "code",
   "execution_count": 29,
   "id": "1c9df491",
   "metadata": {},
   "outputs": [],
   "source": [
    "train_dataset = load_from_disk(\"../files/train_dataset\")\n",
    "val_dataset = load_from_disk(\"../files/val_dataset\")"
   ]
  },
  {
   "cell_type": "code",
   "execution_count": null,
   "id": "6bc64528",
   "metadata": {},
   "outputs": [],
   "source": [
    "# Get Passages from Train and Val Datasets\n",
    "train_contexts = list({context for item in train_dataset for context in item[\"context\"][\"contexts\"]})\n",
    "val_contexts = list({context for item in val_dataset for context in item[\"context\"][\"contexts\"]})\n",
    "\n",
    "# merge train and val contexts\n",
    "all_contexts = list(set(train_contexts) | set(val_contexts))"
   ]
  },
  {
   "cell_type": "code",
   "execution_count": 31,
   "id": "d92b50f4",
   "metadata": {},
   "outputs": [],
   "source": [
    "context_embeddings = model.encode(all_contexts, batch_size=16)"
   ]
  },
  {
   "cell_type": "code",
   "execution_count": null,
   "id": "b1fab323",
   "metadata": {},
   "outputs": [],
   "source": [
    "index = faiss.IndexFlatL2(context_embeddings.shape[1])\n",
    "index.add(context_embeddings)\n",
    "faiss.write_index(index, \"../files/baseline_2_all_faiss.index\") # store all embeddings into a faiss index file"
   ]
  },
  {
   "cell_type": "markdown",
   "id": "961d90f2",
   "metadata": {},
   "source": [
    "### Evaluate Retriever\n",
    "Check Retriever Accuracy on this model on the complete dataset"
   ]
  },
  {
   "cell_type": "code",
   "execution_count": 33,
   "id": "6dc8aad6",
   "metadata": {},
   "outputs": [],
   "source": [
    "# Concatenate Datasets\n",
    "full_dataset = concatenate_datasets([train_dataset, val_dataset])"
   ]
  },
  {
   "cell_type": "code",
   "execution_count": 35,
   "id": "ccaa037c",
   "metadata": {},
   "outputs": [],
   "source": [
    "def retrieval_evaluation(dataset, index, contexts, k=5):\n",
    "    total_matched = 0\n",
    "    total_expected = 0\n",
    "\n",
    "    for item in tqdm(dataset):\n",
    "        query = item[\"question\"]\n",
    "        query_embedding = model.encode([query])[0]\n",
    "        gold_contexts = set(item[\"context\"][\"contexts\"])\n",
    "\n",
    "        _, I = index.search(query_embedding.reshape(1, -1), len(gold_contexts))\n",
    "\n",
    "        retrieved_contexts = {contexts[i] for i in I[0]}\n",
    "        \n",
    "        # Check if any of the retrieved contexts match the answers\n",
    "        matched = len(gold_contexts & retrieved_contexts)\n",
    "        total_matched += matched\n",
    "        total_expected += len(gold_contexts)\n",
    "\n",
    "    return total_matched / total_expected"
   ]
  },
  {
   "cell_type": "code",
   "execution_count": 36,
   "id": "d03a206a",
   "metadata": {},
   "outputs": [
    {
     "name": "stderr",
     "output_type": "stream",
     "text": [
      "100%|██████████| 20000/20000 [13:50<00:00, 24.08it/s]"
     ]
    },
    {
     "name": "stdout",
     "output_type": "stream",
     "text": [
      "Retrieval Accuracy: 0.5950\n"
     ]
    },
    {
     "name": "stderr",
     "output_type": "stream",
     "text": [
      "\n"
     ]
    }
   ],
   "source": [
    "retrieval_accuracy = retrieval_evaluation(full_dataset, index, all_contexts)\n",
    "print(f\"Retrieval Accuracy: {retrieval_accuracy:.4f}\")"
   ]
  },
  {
   "cell_type": "markdown",
   "id": "abd30b71",
   "metadata": {},
   "source": [
    "Store Retrieved Context Pairs for Validation Set"
   ]
  },
  {
   "cell_type": "code",
   "execution_count": null,
   "id": "3afbd9c5",
   "metadata": {},
   "outputs": [
    {
     "data": {
      "text/plain": [
       "Dataset({\n",
       "    features: ['pubid', 'question', 'context', 'long_answer', 'final_decision'],\n",
       "    num_rows: 2000\n",
       "})"
      ]
     },
     "execution_count": 22,
     "metadata": {},
     "output_type": "execute_result"
    }
   ],
   "source": [
    "val_dataset"
   ]
  },
  {
   "cell_type": "code",
   "execution_count": null,
   "id": "f9a7f67d",
   "metadata": {},
   "outputs": [],
   "source": [
    "def retrieve_for_validation_set(dataset, index, contexts, k=5):\n",
    "    retreived_pairas = []\n",
    "    for item in tqdm(dataset):\n",
    "        query = item[\"question\"]\n",
    "        query_embedding = model.encode([query])[0]\n",
    "\n",
    "        _, I = index.search(query_embedding.reshape(1, -1), 5)\n",
    "\n",
    "        retrieved_contexts = [contexts[i] for i in I[0]]\n",
    "        \n",
    "        # store question and retireved contexts in a dict object\n",
    "        retreived_pairas.append({\n",
    "            \"question\": query,\n",
    "            \"retrieved_contexts\": retrieved_contexts\n",
    "        })\n",
    "    return retreived_pairas\n"
   ]
  },
  {
   "cell_type": "code",
   "execution_count": null,
   "id": "f0c0a2d0",
   "metadata": {},
   "outputs": [
    {
     "name": "stderr",
     "output_type": "stream",
     "text": [
      "100%|██████████| 2000/2000 [00:21<00:00, 94.87it/s]\n"
     ]
    }
   ],
   "source": [
    "# Retreive relevant pairs for the validation set\n",
    "\n",
    "retreived_pairs = retrieve_for_validation_set(val_dataset, index, val_contexts)"
   ]
  },
  {
   "cell_type": "code",
   "execution_count": null,
   "id": "cc29aee8",
   "metadata": {},
   "outputs": [],
   "source": [
    "# store the retireved contexts for validation set along with questions\n",
    "with open(\"../files/val_retrieved_pairs_base_2.json\", \"w\") as f:\n",
    "    json.dump(retreived_pairs, f)\n"
   ]
  }
 ],
 "metadata": {
  "kernelspec": {
   "display_name": "Python 3",
   "language": "python",
   "name": "python3"
  },
  "language_info": {
   "codemirror_mode": {
    "name": "ipython",
    "version": 3
   },
   "file_extension": ".py",
   "mimetype": "text/x-python",
   "name": "python",
   "nbconvert_exporter": "python",
   "pygments_lexer": "ipython3",
   "version": "3.10.17"
  }
 },
 "nbformat": 4,
 "nbformat_minor": 5
}
