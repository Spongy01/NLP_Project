{
 "cells": [
  {
   "cell_type": "code",
   "execution_count": null,
   "id": "200df883",
   "metadata": {},
   "outputs": [],
   "source": [
    "############################################\n",
    "# Team : RAGrats\n",
    "# Team Members : Ali Asgar Padaria, Param Patel, Meet Zalavadiya\n",
    "# \n",
    "# Code Description : This code extracts a subset of the original pqa_artifical data which is not biased and has equal number of both the class labels\n",
    "#                    This subset of data in form of training and validation sets is stored in files/ folder for access by models.\n",
    "#                    \n",
    "#\n",
    "# System : GCP Server L4 GPU\n",
    "#############################################"
   ]
  },
  {
   "cell_type": "code",
   "execution_count": 1,
   "id": "90148751",
   "metadata": {},
   "outputs": [
    {
     "name": "stdout",
     "output_type": "stream",
     "text": [
      "Train label counts: Counter({'no': 9000, 'yes': 9000})\n",
      "Validation label counts: Counter({'no': 1000, 'yes': 1000})\n"
     ]
    },
    {
     "data": {
      "application/vnd.jupyter.widget-view+json": {
       "model_id": "35b11f4787434fd5b700463967895895",
       "version_major": 2,
       "version_minor": 0
      },
      "text/plain": [
       "Saving the dataset (0/1 shards):   0%|          | 0/18000 [00:00<?, ? examples/s]"
      ]
     },
     "metadata": {},
     "output_type": "display_data"
    },
    {
     "data": {
      "application/vnd.jupyter.widget-view+json": {
       "model_id": "70e9df20db51456ba68d7c41829030ee",
       "version_major": 2,
       "version_minor": 0
      },
      "text/plain": [
       "Saving the dataset (0/1 shards):   0%|          | 0/2000 [00:00<?, ? examples/s]"
      ]
     },
     "metadata": {},
     "output_type": "display_data"
    },
    {
     "name": "stdout",
     "output_type": "stream",
     "text": [
      "Train dataset saved to: /home/apadaria/NLP_Project/source/files/train_dataset\n",
      "Validation dataset saved to: /home/apadaria/NLP_Project/source/files/val_dataset\n"
     ]
    }
   ],
   "source": [
    "from datasets import load_dataset, concatenate_datasets\n",
    "from collections import Counter\n",
    "import os\n",
    "\n",
    "# Load full train split\n",
    "dataset = load_dataset(\"pubmed_qa\", \"pqa_artificial\")[\"train\"]\n",
    "\n",
    "# Filter only 'yes' and 'no' labels\n",
    "yes_data = dataset.filter(lambda x: x['final_decision'] == 'yes')\n",
    "no_data = dataset.filter(lambda x: x['final_decision'] == 'no')\n",
    "\n",
    "# Total required from each class\n",
    "total_yes = 10000\n",
    "total_no = 10000\n",
    "\n",
    "# Shuffle and sample\n",
    "yes_sample = yes_data.shuffle(seed=42).select(range(total_yes))\n",
    "no_sample = no_data.shuffle(seed=42).select(range(total_no))\n",
    "\n",
    "# Split into train (9000) and val (1000) for each class\n",
    "yes_train = yes_sample.select(range(9000))\n",
    "yes_val = yes_sample.select(range(9000, 10000))\n",
    "\n",
    "no_train = no_sample.select(range(9000))\n",
    "no_val = no_sample.select(range(9000, 10000))\n",
    "\n",
    "# Concatenate to create full train and validation sets\n",
    "train_dataset = concatenate_datasets([yes_train, no_train]).shuffle(seed=42)\n",
    "val_dataset = concatenate_datasets([yes_val, no_val]).shuffle(seed=42)\n",
    "\n",
    "# Optional: Check distributions\n",
    "print(\"Train label counts:\", Counter(train_dataset['final_decision']))\n",
    "print(\"Validation label counts:\", Counter(val_dataset['final_decision']))\n",
    "\n",
    "# Save paths\n",
    "base_path = \"/home/apadaria/NLP_Project/source/files\"\n",
    "train_path = os.path.join(base_path, \"train_dataset\")\n",
    "val_path = os.path.join(base_path, \"val_dataset\")\n",
    "\n",
    "# Create directories\n",
    "os.makedirs(train_path, exist_ok=True)\n",
    "os.makedirs(val_path, exist_ok=True)\n",
    "\n",
    "# Save datasets\n",
    "train_dataset.save_to_disk(train_path)\n",
    "val_dataset.save_to_disk(val_path)\n",
    "\n",
    "print(f\"Train dataset saved to: {train_path}\")\n",
    "print(f\"Validation dataset saved to: {val_path}\")\n"
   ]
  }
 ],
 "metadata": {
  "kernelspec": {
   "display_name": "Python 3",
   "language": "python",
   "name": "python3"
  },
  "language_info": {
   "codemirror_mode": {
    "name": "ipython",
    "version": 3
   },
   "file_extension": ".py",
   "mimetype": "text/x-python",
   "name": "python",
   "nbconvert_exporter": "python",
   "pygments_lexer": "ipython3",
   "version": "3.10.17"
  }
 },
 "nbformat": 4,
 "nbformat_minor": 5
}
