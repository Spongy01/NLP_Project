{
 "cells": [
  {
   "cell_type": "code",
   "execution_count": null,
   "id": "0f5b38f4",
   "metadata": {},
   "outputs": [],
   "source": [
    "############################################\n",
    "# Team : RAGrats\n",
    "# Team Members : Ali Asgar Padaria, Param Patel, Meet Zalavadiya\n",
    "# \n",
    "# Code Description : This file contains the code for the Baseline 1 Model\n",
    "#                    It implements a RAG system which tries QA (Boolean) on PubMedQA dataset via a Llama 3.2 - 1B model.\n",
    "#                    It acts as a baseline for \"Debating (smaller) Models\" implemented in improvement_1.py file.\n",
    "#                    For this file, we are directly using the retrieved documents that we compiled and saved while generating the vectorDB for baseline 1 and improvement 1 models.\n",
    "#                    We do not retrieve the documents again from the vectorDB. [That code is available in vectorDB_generator.py file, which also stores the retrieved contexts mapping to the questions]\n",
    "#\n",
    "# NLP Concepts Usage: Tokenization, Embeddings (via retriever in vectorDB_generator.py), Language Modeling, Question Answering\n",
    "#\n",
    "# System : GCP Server L4 GPU\n",
    "#############################################"
   ]
  },
  {
   "cell_type": "code",
   "execution_count": null,
   "id": "c0306ed9",
   "metadata": {},
   "outputs": [
    {
     "name": "stderr",
     "output_type": "stream",
     "text": [
      "Note: Environment variable`HF_TOKEN` is set and is the current active token independently from the token you've just configured.\n"
     ]
    }
   ],
   "source": [
    "# Import Necessary Libraries\n",
    "import torch\n",
    "from transformers import AutoTokenizer, AutoModelForCausalLM, pipeline\n",
    "from datasets import load_dataset, load_from_disk\n",
    "from huggingface_hub import login\n",
    "from tqdm import tqdm\n",
    "from dotenv import load_dotenv\n",
    "import os\n",
    "load_dotenv()\n",
    "token = os.getenv(\"HF_TOKEN\") # Login to Hugging Face Hub for Access to LLama models\n",
    "\n",
    "login(token=token)\n",
    "import torch.nn.functional as F\n",
    "\n",
    "from torch.nn.utils.rnn import pad_sequence\n",
    "from torch.utils.data import DataLoader\n",
    "from sklearn.preprocessing import LabelEncoder\n",
    "import numpy as np\n",
    "from transformers import pipeline\n",
    "\n",
    "from transformers import (\n",
    "    RobertaTokenizer,\n",
    "    AutoConfig,\n",
    "    AutoModel,\n",
    "    AutoModelForSequenceClassification\n",
    ")\n",
    "from sklearn.metrics import accuracy_score\n",
    "import json\n"
   ]
  },
  {
   "cell_type": "code",
   "execution_count": null,
   "id": "f9761014",
   "metadata": {},
   "outputs": [],
   "source": [
    "assert torch.cuda.is_available(), \"GPU not available!\" # check if GPU is available"
   ]
  },
  {
   "cell_type": "code",
   "execution_count": null,
   "id": "b5b09db6",
   "metadata": {},
   "outputs": [],
   "source": [
    "# Loading Dataset Stuff\n",
    "\n",
    "# The retreived pairs for the validation set have already been created in the vectorDB_generator.ipynb file in the same folder\n",
    "validation_dataset = load_from_disk(\"../files/val_dataset\")\n",
    "\n",
    "with open(\"../files/val_retrieved_pairs_base_1.json\", \"r\") as f:\n",
    "    retreived_pairs = json.load(f)\n",
    "\n",
    "# dataset # holds final dataset\n",
    "context_map = {item[\"question\"]: item[\"retrieved_contexts\"] for item in retreived_pairs}\n",
    "\n",
    "def add_retrieved_contexts(example):\n",
    "    example[\"retrieved_contexts\"] = context_map[example[\"question\"]]\n",
    "    return example\n",
    "\n",
    "validation_dataset = validation_dataset.map(add_retrieved_contexts)"
   ]
  },
  {
   "cell_type": "code",
   "execution_count": null,
   "id": "68060040",
   "metadata": {},
   "outputs": [],
   "source": [
    "# Load LLama 1B model\n",
    "model_3b = 'meta-llama/Llama-3.2-1B'\n",
    "\n",
    "model_id = model_3b\n",
    "\n",
    "tokenizer = AutoTokenizer.from_pretrained(model_id, padding_side=\"left\")\n",
    "\n",
    "# pipe = pipeline(\"text-generation\", model=model, tokenizer=tokenizer, device=0, torch_dtype=torch.float16) "
   ]
  },
  {
   "cell_type": "code",
   "execution_count": null,
   "id": "7ce60c60",
   "metadata": {},
   "outputs": [
    {
     "name": "stdout",
     "output_type": "stream",
     "text": [
      "Tokenizer and model loaded successfully.\n"
     ]
    }
   ],
   "source": [
    "# loading the model\n",
    "model = AutoModelForCausalLM.from_pretrained( # NLP Concept: Language Modeling\n",
    "    model_id,\n",
    "    torch_dtype=torch.float16,\n",
    "    device_map=\"auto\",\n",
    ")\n",
    "tokenizer.pad_token = tokenizer.eos_token  # Required\n",
    "model.config.pad_token_id = tokenizer.pad_token_id\n",
    "\n",
    "print(\"Tokenizer and model loaded successfully.\")"
   ]
  },
  {
   "cell_type": "code",
   "execution_count": null,
   "id": "9480c77b",
   "metadata": {},
   "outputs": [],
   "source": [
    "# Explaination Generation Model (LLama 1B)\n",
    "def generate_prompts(dataset):\n",
    "    prompts = []\n",
    "\n",
    "    for data in dataset:\n",
    "        question = data['question']\n",
    "        contexts = data['retrieved_contexts']\n",
    "        context = \"\\n\".join([f\"Context {i+1}: {c}\" for i, c in enumerate(contexts)])\n",
    "        prompt = (\n",
    "            f\"Contexts:\\n{context}\\n\\n\"\n",
    "            \"Based on the contexts above, answer the question below in yes, no, maybe.\\n\"\n",
    "            \"Provide a short explanation that justifies your answer using evidence from the context.\\n\"\n",
    "            f\"Question: {question}?\\n\"\n",
    "            \"Answer: \"\n",
    "        )\n",
    "        prompts.append(prompt)\n",
    "\n",
    "    \n",
    "    return prompts"
   ]
  },
  {
   "cell_type": "code",
   "execution_count": 11,
   "id": "c0206792",
   "metadata": {},
   "outputs": [],
   "source": [
    "prompts = generate_prompts(validation_dataset.select(range(500)))"
   ]
  },
  {
   "cell_type": "code",
   "execution_count": null,
   "id": "7f96cbca",
   "metadata": {},
   "outputs": [],
   "source": [
    "# Generate explanations using the model in batched format\n",
    "def generate_batch(prompts, max_new_tokens=150):\n",
    "    inputs = tokenizer(prompts, return_tensors=\"pt\", padding=True, truncation=True, max_length=512).to(model.device)\n",
    "\n",
    "    with torch.no_grad():\n",
    "        with torch.amp.autocast(dtype=torch.float16, device_type=\"cuda\"):\n",
    "            outputs = model.generate(\n",
    "                **inputs,\n",
    "                max_new_tokens=max_new_tokens,\n",
    "                do_sample=False,\n",
    "                return_dict_in_generate=True,\n",
    "                output_scores=False\n",
    "            )\n",
    "\n",
    "    decoded = tokenizer.batch_decode(outputs.sequences, skip_special_tokens=True)\n",
    "    return decoded\n",
    "\n",
    "def generate(prompts, batch_size=8):\n",
    "    all_outputs = []\n",
    "    for i in tqdm(range(0, len(prompts), batch_size)):\n",
    "        batch = prompts[i:i+batch_size]\n",
    "        outputs = generate_batch(batch)\n",
    "        all_outputs.extend(outputs)\n",
    "    return all_outputs"
   ]
  },
  {
   "cell_type": "code",
   "execution_count": 16,
   "id": "54b63a64",
   "metadata": {},
   "outputs": [
    {
     "name": "stderr",
     "output_type": "stream",
     "text": [
      "  0%|          | 0/63 [00:00<?, ?it/s]/opt/python/3.10/lib/python3.10/site-packages/transformers/generation/configuration_utils.py:631: UserWarning: `do_sample` is set to `False`. However, `temperature` is set to `0.6` -- this flag is only used in sample-based generation modes. You should set `do_sample=True` or unset `temperature`.\n",
      "  warnings.warn(\n",
      "/opt/python/3.10/lib/python3.10/site-packages/transformers/generation/configuration_utils.py:636: UserWarning: `do_sample` is set to `False`. However, `top_p` is set to `0.9` -- this flag is only used in sample-based generation modes. You should set `do_sample=True` or unset `top_p`.\n",
      "  warnings.warn(\n",
      "Setting `pad_token_id` to `eos_token_id`:128001 for open-end generation.\n",
      "  2%|▏         | 1/63 [00:05<05:19,  5.16s/it]Setting `pad_token_id` to `eos_token_id`:128001 for open-end generation.\n",
      "  3%|▎         | 2/63 [00:09<04:37,  4.55s/it]Setting `pad_token_id` to `eos_token_id`:128001 for open-end generation.\n",
      "  5%|▍         | 3/63 [00:13<04:31,  4.52s/it]Setting `pad_token_id` to `eos_token_id`:128001 for open-end generation.\n",
      "  6%|▋         | 4/63 [00:17<04:14,  4.31s/it]Setting `pad_token_id` to `eos_token_id`:128001 for open-end generation.\n",
      "  8%|▊         | 5/63 [00:21<04:06,  4.25s/it]Setting `pad_token_id` to `eos_token_id`:128001 for open-end generation.\n",
      " 10%|▉         | 6/63 [00:25<03:59,  4.20s/it]Setting `pad_token_id` to `eos_token_id`:128001 for open-end generation.\n",
      " 11%|█         | 7/63 [00:30<03:59,  4.28s/it]Setting `pad_token_id` to `eos_token_id`:128001 for open-end generation.\n",
      " 13%|█▎        | 8/63 [00:34<03:52,  4.23s/it]Setting `pad_token_id` to `eos_token_id`:128001 for open-end generation.\n",
      " 14%|█▍        | 9/63 [00:38<03:46,  4.19s/it]Setting `pad_token_id` to `eos_token_id`:128001 for open-end generation.\n",
      " 16%|█▌        | 10/63 [00:42<03:40,  4.17s/it]Setting `pad_token_id` to `eos_token_id`:128001 for open-end generation.\n",
      " 17%|█▋        | 11/63 [00:46<03:36,  4.16s/it]Setting `pad_token_id` to `eos_token_id`:128001 for open-end generation.\n",
      " 19%|█▉        | 12/63 [00:50<03:29,  4.12s/it]Setting `pad_token_id` to `eos_token_id`:128001 for open-end generation.\n",
      " 21%|██        | 13/63 [00:54<03:24,  4.08s/it]Setting `pad_token_id` to `eos_token_id`:128001 for open-end generation.\n",
      " 22%|██▏       | 14/63 [00:58<03:19,  4.07s/it]Setting `pad_token_id` to `eos_token_id`:128001 for open-end generation.\n",
      " 24%|██▍       | 15/63 [01:02<03:13,  4.04s/it]Setting `pad_token_id` to `eos_token_id`:128001 for open-end generation.\n",
      " 25%|██▌       | 16/63 [01:07<03:10,  4.04s/it]Setting `pad_token_id` to `eos_token_id`:128001 for open-end generation.\n",
      " 27%|██▋       | 17/63 [01:11<03:14,  4.23s/it]Setting `pad_token_id` to `eos_token_id`:128001 for open-end generation.\n",
      " 29%|██▊       | 18/63 [01:16<03:19,  4.44s/it]Setting `pad_token_id` to `eos_token_id`:128001 for open-end generation.\n",
      " 30%|███       | 19/63 [01:20<03:10,  4.33s/it]Setting `pad_token_id` to `eos_token_id`:128001 for open-end generation.\n",
      " 32%|███▏      | 20/63 [01:24<03:02,  4.24s/it]Setting `pad_token_id` to `eos_token_id`:128001 for open-end generation.\n",
      " 33%|███▎      | 21/63 [01:29<02:59,  4.27s/it]Setting `pad_token_id` to `eos_token_id`:128001 for open-end generation.\n",
      " 35%|███▍      | 22/63 [01:34<03:12,  4.71s/it]Setting `pad_token_id` to `eos_token_id`:128001 for open-end generation.\n",
      " 37%|███▋      | 23/63 [01:40<03:17,  4.93s/it]Setting `pad_token_id` to `eos_token_id`:128001 for open-end generation.\n",
      " 38%|███▊      | 24/63 [01:45<03:17,  5.06s/it]Setting `pad_token_id` to `eos_token_id`:128001 for open-end generation.\n",
      " 40%|███▉      | 25/63 [01:50<03:09,  4.98s/it]Setting `pad_token_id` to `eos_token_id`:128001 for open-end generation.\n",
      " 41%|████▏     | 26/63 [01:54<02:59,  4.85s/it]Setting `pad_token_id` to `eos_token_id`:128001 for open-end generation.\n",
      " 43%|████▎     | 27/63 [01:59<02:51,  4.77s/it]Setting `pad_token_id` to `eos_token_id`:128001 for open-end generation.\n",
      " 44%|████▍     | 28/63 [02:04<02:44,  4.71s/it]Setting `pad_token_id` to `eos_token_id`:128001 for open-end generation.\n",
      " 46%|████▌     | 29/63 [02:08<02:38,  4.66s/it]Setting `pad_token_id` to `eos_token_id`:128001 for open-end generation.\n",
      " 48%|████▊     | 30/63 [02:13<02:36,  4.74s/it]Setting `pad_token_id` to `eos_token_id`:128001 for open-end generation.\n",
      " 49%|████▉     | 31/63 [02:18<02:30,  4.70s/it]Setting `pad_token_id` to `eos_token_id`:128001 for open-end generation.\n",
      " 51%|█████     | 32/63 [02:22<02:24,  4.67s/it]Setting `pad_token_id` to `eos_token_id`:128001 for open-end generation.\n",
      " 52%|█████▏    | 33/63 [02:27<02:18,  4.63s/it]Setting `pad_token_id` to `eos_token_id`:128001 for open-end generation.\n",
      " 54%|█████▍    | 34/63 [02:31<02:12,  4.58s/it]Setting `pad_token_id` to `eos_token_id`:128001 for open-end generation.\n",
      " 56%|█████▌    | 35/63 [02:36<02:08,  4.61s/it]Setting `pad_token_id` to `eos_token_id`:128001 for open-end generation.\n",
      " 57%|█████▋    | 36/63 [02:40<02:03,  4.58s/it]Setting `pad_token_id` to `eos_token_id`:128001 for open-end generation.\n",
      " 59%|█████▊    | 37/63 [02:45<01:59,  4.59s/it]Setting `pad_token_id` to `eos_token_id`:128001 for open-end generation.\n",
      " 60%|██████    | 38/63 [02:49<01:53,  4.55s/it]Setting `pad_token_id` to `eos_token_id`:128001 for open-end generation.\n",
      " 62%|██████▏   | 39/63 [02:54<01:49,  4.55s/it]Setting `pad_token_id` to `eos_token_id`:128001 for open-end generation.\n",
      " 63%|██████▎   | 40/63 [02:59<01:44,  4.54s/it]Setting `pad_token_id` to `eos_token_id`:128001 for open-end generation.\n",
      " 65%|██████▌   | 41/63 [03:03<01:39,  4.54s/it]Setting `pad_token_id` to `eos_token_id`:128001 for open-end generation.\n",
      " 67%|██████▋   | 42/63 [03:08<01:35,  4.54s/it]Setting `pad_token_id` to `eos_token_id`:128001 for open-end generation.\n",
      " 68%|██████▊   | 43/63 [03:13<01:32,  4.64s/it]Setting `pad_token_id` to `eos_token_id`:128001 for open-end generation.\n",
      " 70%|██████▉   | 44/63 [03:17<01:28,  4.64s/it]Setting `pad_token_id` to `eos_token_id`:128001 for open-end generation.\n",
      " 71%|███████▏  | 45/63 [03:22<01:23,  4.63s/it]Setting `pad_token_id` to `eos_token_id`:128001 for open-end generation.\n",
      " 73%|███████▎  | 46/63 [03:26<01:18,  4.62s/it]Setting `pad_token_id` to `eos_token_id`:128001 for open-end generation.\n",
      " 75%|███████▍  | 47/63 [03:31<01:13,  4.61s/it]Setting `pad_token_id` to `eos_token_id`:128001 for open-end generation.\n",
      " 76%|███████▌  | 48/63 [03:36<01:09,  4.62s/it]Setting `pad_token_id` to `eos_token_id`:128001 for open-end generation.\n",
      " 78%|███████▊  | 49/63 [03:40<01:04,  4.60s/it]Setting `pad_token_id` to `eos_token_id`:128001 for open-end generation.\n",
      " 79%|███████▉  | 50/63 [03:45<00:59,  4.55s/it]Setting `pad_token_id` to `eos_token_id`:128001 for open-end generation.\n",
      " 81%|████████  | 51/63 [03:49<00:54,  4.53s/it]Setting `pad_token_id` to `eos_token_id`:128001 for open-end generation.\n",
      " 83%|████████▎ | 52/63 [03:54<00:50,  4.57s/it]Setting `pad_token_id` to `eos_token_id`:128001 for open-end generation.\n",
      " 84%|████████▍ | 53/63 [03:58<00:45,  4.56s/it]Setting `pad_token_id` to `eos_token_id`:128001 for open-end generation.\n",
      " 86%|████████▌ | 54/63 [04:03<00:41,  4.56s/it]Setting `pad_token_id` to `eos_token_id`:128001 for open-end generation.\n",
      " 87%|████████▋ | 55/63 [04:07<00:36,  4.55s/it]Setting `pad_token_id` to `eos_token_id`:128001 for open-end generation.\n",
      " 89%|████████▉ | 56/63 [04:12<00:32,  4.63s/it]Setting `pad_token_id` to `eos_token_id`:128001 for open-end generation.\n",
      " 90%|█████████ | 57/63 [04:17<00:27,  4.59s/it]Setting `pad_token_id` to `eos_token_id`:128001 for open-end generation.\n",
      " 92%|█████████▏| 58/63 [04:21<00:22,  4.58s/it]Setting `pad_token_id` to `eos_token_id`:128001 for open-end generation.\n",
      " 94%|█████████▎| 59/63 [04:26<00:18,  4.59s/it]Setting `pad_token_id` to `eos_token_id`:128001 for open-end generation.\n",
      " 95%|█████████▌| 60/63 [04:30<00:13,  4.42s/it]Setting `pad_token_id` to `eos_token_id`:128001 for open-end generation.\n",
      " 97%|█████████▋| 61/63 [04:34<00:08,  4.31s/it]Setting `pad_token_id` to `eos_token_id`:128001 for open-end generation.\n",
      " 98%|█████████▊| 62/63 [04:38<00:04,  4.26s/it]Setting `pad_token_id` to `eos_token_id`:128001 for open-end generation.\n",
      "100%|██████████| 63/63 [04:42<00:00,  4.48s/it]\n"
     ]
    }
   ],
   "source": [
    "all_outputs = generate(prompts, batch_size=8)"
   ]
  },
  {
   "cell_type": "code",
   "execution_count": null,
   "id": "80bbc23e",
   "metadata": {},
   "outputs": [],
   "source": [
    "generated_texts = []\n",
    "\n",
    "for prompt, output in zip(prompts, all_outputs):\n",
    "    # Extract the generated answer from the output without the user prompt\n",
    "    generated_texts.append(output.split(\"Answer:\")[-1].strip())"
   ]
  },
  {
   "cell_type": "code",
   "execution_count": null,
   "id": "3442601f",
   "metadata": {},
   "outputs": [],
   "source": [
    "# save generated texts (only for easy access so that I do not have to run the model again)\n",
    "with open(\"../files/llama_3b_explanations.json\", \"w\") as f:\n",
    "    json.dump(generated_texts, f)"
   ]
  },
  {
   "cell_type": "code",
   "execution_count": null,
   "id": "a4275666",
   "metadata": {},
   "outputs": [],
   "source": [
    "validation_dataset = validation_dataset.select(range(len(generated_texts)))\n",
    "validation_dataset = validation_dataset.add_column(\"generated_answer\", generated_texts) # add generated answer to the dataset\n"
   ]
  },
  {
   "cell_type": "code",
   "execution_count": 20,
   "id": "2027ee0f",
   "metadata": {},
   "outputs": [
    {
     "data": {
      "text/plain": [
       "Dataset({\n",
       "    features: ['pubid', 'question', 'context', 'long_answer', 'final_decision', 'retrieved_contexts', 'generated_answer'],\n",
       "    num_rows: 500\n",
       "})"
      ]
     },
     "execution_count": 20,
     "metadata": {},
     "output_type": "execute_result"
    }
   ],
   "source": [
    "validation_dataset"
   ]
  },
  {
   "cell_type": "code",
   "execution_count": null,
   "id": "ccdfc4b2",
   "metadata": {},
   "outputs": [
    {
     "name": "stderr",
     "output_type": "stream",
     "text": [
      "Some weights of RobertaForSequenceClassification were not initialized from the model checkpoint at roberta-base and are newly initialized: ['classifier.dense.bias', 'classifier.dense.weight', 'classifier.out_proj.bias', 'classifier.out_proj.weight']\n",
      "You should probably TRAIN this model on a down-stream task to be able to use it for predictions and inference.\n",
      "/var/tmp/ipykernel_432824/1602147775.py:10: FutureWarning: You are using `torch.load` with `weights_only=False` (the current default value), which uses the default pickle module implicitly. It is possible to construct malicious pickle data which will execute arbitrary code during unpickling (See https://github.com/pytorch/pytorch/blob/main/SECURITY.md#untrusted-models for more details). In a future release, the default value for `weights_only` will be flipped to `True`. This limits the functions that could be executed during unpickling. Arbitrary objects will no longer be allowed to be loaded via this mode unless they are explicitly allowlisted by the user via `torch.serialization.add_safe_globals`. We recommend you start setting `weights_only=True` for any use case where you don't have full control of the loaded file. Please open an issue on GitHub for any issues related to this experimental feature.\n",
      "  classifer_model.load_state_dict(torch.load(\"../files/roberta_classifier.pt\", map_location=torch.device(\"cuda\")))  # or \"cuda\"\n"
     ]
    },
    {
     "data": {
      "text/plain": [
       "RobertaForSequenceClassification(\n",
       "  (roberta): RobertaModel(\n",
       "    (embeddings): RobertaEmbeddings(\n",
       "      (word_embeddings): Embedding(50265, 768, padding_idx=1)\n",
       "      (position_embeddings): Embedding(514, 768, padding_idx=1)\n",
       "      (token_type_embeddings): Embedding(1, 768)\n",
       "      (LayerNorm): LayerNorm((768,), eps=1e-05, elementwise_affine=True)\n",
       "      (dropout): Dropout(p=0.1, inplace=False)\n",
       "    )\n",
       "    (encoder): RobertaEncoder(\n",
       "      (layer): ModuleList(\n",
       "        (0-11): 12 x RobertaLayer(\n",
       "          (attention): RobertaAttention(\n",
       "            (self): RobertaSdpaSelfAttention(\n",
       "              (query): Linear(in_features=768, out_features=768, bias=True)\n",
       "              (key): Linear(in_features=768, out_features=768, bias=True)\n",
       "              (value): Linear(in_features=768, out_features=768, bias=True)\n",
       "              (dropout): Dropout(p=0.1, inplace=False)\n",
       "            )\n",
       "            (output): RobertaSelfOutput(\n",
       "              (dense): Linear(in_features=768, out_features=768, bias=True)\n",
       "              (LayerNorm): LayerNorm((768,), eps=1e-05, elementwise_affine=True)\n",
       "              (dropout): Dropout(p=0.1, inplace=False)\n",
       "            )\n",
       "          )\n",
       "          (intermediate): RobertaIntermediate(\n",
       "            (dense): Linear(in_features=768, out_features=3072, bias=True)\n",
       "            (intermediate_act_fn): GELUActivation()\n",
       "          )\n",
       "          (output): RobertaOutput(\n",
       "            (dense): Linear(in_features=3072, out_features=768, bias=True)\n",
       "            (LayerNorm): LayerNorm((768,), eps=1e-05, elementwise_affine=True)\n",
       "            (dropout): Dropout(p=0.1, inplace=False)\n",
       "          )\n",
       "        )\n",
       "      )\n",
       "    )\n",
       "  )\n",
       "  (classifier): RobertaClassificationHead(\n",
       "    (dense): Linear(in_features=768, out_features=768, bias=True)\n",
       "    (dropout): Dropout(p=0.1, inplace=False)\n",
       "    (out_proj): Linear(in_features=768, out_features=1, bias=True)\n",
       "  )\n",
       ")"
      ]
     },
     "execution_count": 21,
     "metadata": {},
     "output_type": "execute_result"
    }
   ],
   "source": [
    "tokenizer = AutoTokenizer.from_pretrained(\"roberta-base\") # NLP Concept: Tokenization\n",
    "\n",
    "# Define label mapping\n",
    "label_map = {\"yes\": 1, \"no\": 0}\n",
    "\n",
    "classifer_model = AutoModelForSequenceClassification.from_pretrained(\n",
    "        \"roberta-base\",\n",
    "        num_labels=1,\n",
    ")\n",
    "classifer_model.load_state_dict(torch.load(\"../files/roberta_classifier.pt\", map_location=torch.device(\"cuda\")))  # load the model weights for roberta classifier\n",
    "classifer_model.eval()"
   ]
  },
  {
   "cell_type": "code",
   "execution_count": null,
   "id": "955c06eb",
   "metadata": {},
   "outputs": [],
   "source": [
    "def preprocess_function(example):\n",
    "    # Use only questions, no context\n",
    "    \n",
    "    final_prompt = f\"{example['question']}\\n{example['generated_answer']}\"\n",
    "    inputs = tokenizer( # NLP Concept: Tokenization\n",
    "        final_prompt,\n",
    "        truncation=True,\n",
    "        max_length=512\n",
    "    )\n",
    "    label_map = {\"yes\": 1, \"no\": 0} \n",
    "    inputs[\"labels\"] = label_map[example[\"final_decision\"]]\n",
    "    return inputs\n",
    "\n",
    "def train_collator(batch):\n",
    "    input_ids = pad_sequence(\n",
    "        [torch.tensor(x['input_ids']) for x in batch],\n",
    "        batch_first=True,\n",
    "        padding_value=tokenizer.pad_token_id\n",
    "    )\n",
    "    attention_mask = pad_sequence(\n",
    "        [torch.tensor(x['attention_mask']) for x in batch],\n",
    "        batch_first=True,\n",
    "        padding_value=0\n",
    "    )\n",
    "    labels = torch.tensor([x['labels'] for x in batch])\n",
    "    \n",
    "    return {\n",
    "        'input_ids': input_ids,\n",
    "        'attention_mask': attention_mask,\n",
    "        'labels': labels\n",
    "    }"
   ]
  },
  {
   "cell_type": "code",
   "execution_count": null,
   "id": "813d3a92",
   "metadata": {},
   "outputs": [
    {
     "data": {
      "application/vnd.jupyter.widget-view+json": {
       "model_id": "fa7a1154592f43c9831728e3a4140cff",
       "version_major": 2,
       "version_minor": 0
      },
      "text/plain": [
       "Map:   0%|          | 0/500 [00:00<?, ? examples/s]"
      ]
     },
     "metadata": {},
     "output_type": "display_data"
    }
   ],
   "source": [
    "tokenized_dataset = validation_dataset.map(\n",
    "    preprocess_function,\n",
    "    remove_columns=validation_dataset.column_names  \n",
    ")\n",
    "\n",
    "val_dataloader = DataLoader(\n",
    "    tokenized_dataset,  \n",
    "    batch_size=16,\n",
    "    collate_fn=train_collator\n",
    ")"
   ]
  },
  {
   "cell_type": "code",
   "execution_count": null,
   "id": "c84e35cc",
   "metadata": {},
   "outputs": [],
   "source": [
    "def evaluate_model(model, val_loader, device=\"cuda\"):\n",
    "    model.eval()\n",
    "    all_preds = []\n",
    "    all_labels = []\n",
    "    model.to(device)\n",
    "    with torch.no_grad():\n",
    "        for batch in tqdm(val_loader, desc=\"Evaluating\"):\n",
    "            input_ids = batch['input_ids'].to(device)\n",
    "            attention_mask = batch['attention_mask'].to(device)\n",
    "            labels = batch['labels'].to(device).float().unsqueeze(1)  # shape: [batch_size, 1]\n",
    "\n",
    "            outputs = model(input_ids=input_ids, attention_mask=attention_mask)\n",
    "            logits = outputs.logits  # shape: [batch_size, 1]\n",
    "\n",
    "            probs = torch.sigmoid(logits)  # convert logits to probabilities\n",
    "            preds = (probs > 0.5).long()   # thresholding  \n",
    "\n",
    "            all_preds.extend(preds.cpu().numpy().flatten())   # flatten for sklearn\n",
    "            all_labels.extend(labels.cpu().numpy().flatten())\n",
    "\n",
    "    return np.array(all_preds), np.array(all_labels)"
   ]
  },
  {
   "cell_type": "code",
   "execution_count": null,
   "id": "81de59be",
   "metadata": {},
   "outputs": [
    {
     "name": "stderr",
     "output_type": "stream",
     "text": [
      "Evaluating: 100%|██████████| 32/32 [00:07<00:00,  4.49it/s]\n"
     ]
    }
   ],
   "source": [
    "all_preds, all_labels = evaluate_model(classifer_model, val_dataloader, device='cuda') # NLP Concept: Language Modeling, Question Answering"
   ]
  },
  {
   "cell_type": "code",
   "execution_count": 26,
   "id": "584ce3d4",
   "metadata": {},
   "outputs": [
    {
     "name": "stdout",
     "output_type": "stream",
     "text": [
      "Accuracy: 73.40%\n"
     ]
    }
   ],
   "source": [
    "accuracy = accuracy_score(all_labels, all_preds)\n",
    "print(f\"Accuracy: {accuracy * 100:.2f}%\")"
   ]
  },
  {
   "cell_type": "code",
   "execution_count": null,
   "id": "d069e27b",
   "metadata": {},
   "outputs": [],
   "source": [
    "# Accuracy of Baseline 1 using Llama 3 1B model: 73.40% "
   ]
  }
 ],
 "metadata": {
  "kernelspec": {
   "display_name": "Python 3",
   "language": "python",
   "name": "python3"
  },
  "language_info": {
   "codemirror_mode": {
    "name": "ipython",
    "version": 3
   },
   "file_extension": ".py",
   "mimetype": "text/x-python",
   "name": "python",
   "nbconvert_exporter": "python",
   "pygments_lexer": "ipython3",
   "version": "3.10.17"
  }
 },
 "nbformat": 4,
 "nbformat_minor": 5
}
