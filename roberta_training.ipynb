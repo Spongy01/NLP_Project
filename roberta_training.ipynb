{
  "cells": [
    {
      "cell_type": "code",
      "execution_count": 2,
      "metadata": {
        "id": "GYLNziyZwdTE"
      },
      "outputs": [],
      "source": [
        "import torch\n",
        "from datasets import load_dataset\n",
        "from transformers import (\n",
        "    RobertaTokenizer,\n",
        "    AutoConfig,\n",
        "    AutoModel,\n",
        ")\n",
        "from tqdm import tqdm\n",
        "from torch.utils.data import DataLoader\n",
        "from torch.nn.utils.rnn import pad_sequence\n"
      ]
    },
    {
      "cell_type": "code",
      "execution_count": 3,
      "metadata": {
        "id": "ZhAyFAx_wlaf"
      },
      "outputs": [],
      "source": [
        "model_id = \"roberta-base\"\n",
        "# dataset_id = \"qiaojin/PubMedQA\"\n",
        "dataset = load_dataset(\"qiaojin/PubMedQA\",\"pqa_artificial\")"
      ]
    },
    {
      "cell_type": "code",
      "execution_count": 4,
      "metadata": {
        "id": "raPBQHgGwoUv"
      },
      "outputs": [],
      "source": [
        "dataset = dataset[\"train\"].select(range(18000))\n",
        "dataset\n",
        "tokenizer = RobertaTokenizer.from_pretrained(\"roberta-base\")\n",
        "label2id = {\"yes\": 0, \"no\": 1, \"maybe\": 2}\n",
        "id2label = {v: k for k, v in label2id.items()}"
      ]
    },
    {
      "cell_type": "code",
      "execution_count": 5,
      "metadata": {
        "colab": {
          "base_uri": "https://localhost:8080/",
          "height": 173,
          "referenced_widgets": [
            "46708a5fe62643e4ba8f9149b8d5aead",
            "ec52d6952ea9401dba0d7f84f0493f05",
            "084a38a72c5348229bec688ad9c34467",
            "b600fcfa251048a3ae1265cc8c87e44b",
            "848243d6ec4b44bebe22f2a4889c17cb",
            "135b36682c1d449a85b12e8bb91d7a37",
            "fe78077b4a5c44a6860dbec069a8d6cd",
            "5f2fde1f448147dcab1888b9e64584e1",
            "0df267cfa0f9488c9a84ff152cde0309",
            "c4f4f12498f946cf833f58f99765d894",
            "9d0aa28200114b1680cc5df9846dcaf4"
          ]
        },
        "id": "aEIxOYdjx250",
        "outputId": "d4e002ab-953d-454a-dff6-bd028f993f09"
      },
      "outputs": [
        {
          "data": {
            "text/plain": [
              "Dataset({\n",
              "    features: ['pubid', 'question', 'context', 'long_answer', 'final_decision', 'input_ids', 'attention_mask', 'labels'],\n",
              "    num_rows: 18000\n",
              "})"
            ]
          },
          "execution_count": 5,
          "metadata": {},
          "output_type": "execute_result"
        }
      ],
      "source": [
        "def preprocess(example):\n",
        "\n",
        "    final_prompt = f\"{example['question']}\\n{example['long_answer']}\"\n",
        "    inputs = tokenizer(\n",
        "        final_prompt,\n",
        "    )\n",
        "    inputs[\"labels\"] = label2id[example[\"final_decision\"]]\n",
        "    return inputs\n",
        "\n",
        "encoded_dataset = dataset.map(preprocess)\n",
        "# encoded_dataset.set_format(type='torch', columns=['input_ids', 'attention_mask', 'labels'])\n",
        "encoded_dataset"
      ]
    },
    {
      "cell_type": "code",
      "execution_count": 6,
      "metadata": {
        "colab": {
          "base_uri": "https://localhost:8080/"
        },
        "id": "6TkxnJ1u1Lsi",
        "outputId": "343cbf5b-fe38-41cf-aa6e-81e5a48bf681"
      },
      "outputs": [
        {
          "data": {
            "text/plain": [
              "{0: 'yes', 1: 'no', 2: 'maybe'}"
            ]
          },
          "execution_count": 6,
          "metadata": {},
          "output_type": "execute_result"
        }
      ],
      "source": [
        "\n",
        "id2label"
      ]
    },
    {
      "cell_type": "code",
      "execution_count": 7,
      "metadata": {},
      "outputs": [],
      "source": [
        "class RoBERTaModel(torch.nn.Module):\n",
        "  def __init__(self, num_labels):\n",
        "    super().__init__()\n",
        "    self.base_model = AutoModel.from_pretrained('distilroberta-base')\n",
        "    self.classifier = torch.nn.Linear(self.base_model.config.hidden_size, num_labels)\n",
        "\n",
        "  def forward(self, input_ids, attention_mask):\n",
        "    print(\"forward loop\")\n",
        "    outputs = self.base_model(input_ids=input_ids, attention_mask=attention_mask)\n",
        "    print(\"check 1\")\n",
        "    hidden_states = outputs.last_hidden_state\n",
        "    print(\"check 2\")\n",
        "    pooled_output = hidden_states[:, 0, :]\n",
        "    print(\"check 3\")\n",
        "    logits = self.classifier(pooled_output)\n",
        "    print(\"check 4\")\n",
        "    return logits "
      ]
    },
    {
      "cell_type": "code",
      "execution_count": 8,
      "metadata": {
        "id": "WqzsALLlyNlv"
      },
      "outputs": [],
      "source": [
        "# Update the model's configuration with the id2label mapping\n",
        "config = AutoConfig.from_pretrained(model_id)\n",
        "config.update({\"id2label\": id2label})"
      ]
    },
    {
      "cell_type": "code",
      "execution_count": 9,
      "metadata": {
        "colab": {
          "base_uri": "https://localhost:8080/"
        },
        "id": "TtvNd70zzAOs",
        "outputId": "5688b7de-79d9-42c2-adcb-690b3d704ada"
      },
      "outputs": [],
      "source": [
        "model = RoBERTaModel(num_labels=len(label2id))\n"
      ]
    },
    {
      "cell_type": "code",
      "execution_count": 10,
      "metadata": {
        "id": "DHiphJjvzIG1"
      },
      "outputs": [],
      "source": [
        "def finetune_roberta_classifier(model, train_loader, num_epochs, lr, weight_decay, device=\"cuda\"):\n",
        "    \"\"\"\n",
        "    Function to fine-tune a distilRoberta model for a classification task\n",
        "    Args:\n",
        "    model: instance of distilRoberta\n",
        "    train_loader: Dataloader for the BoolQ training set\n",
        "    num_epochs: Number of epochs for training\n",
        "    lr: Learning rate\n",
        "    weight_decay: Weight decay\n",
        "    ...: Any other arguments you may need\n",
        "\n",
        "    Returns:\n",
        "    model: Fine-tuned model\n",
        "    batch_losses: List of losses for each mini-batch\n",
        "    \"\"\"\n",
        "    #<FILL IN>\n",
        "    model.train()\n",
        "    optimizer = torch.optim.AdamW(model.parameters(), lr=lr, weight_decay=weight_decay)\n",
        "    batch_losses = []\n",
        "\n",
        "    # use binary cross entropy loss\n",
        "    criterion = torch.nn.CrossEntropyLoss()\n",
        "    model.to(device)\n",
        "\n",
        "\n",
        "\n",
        "    for epoch in range(num_epochs):\n",
        "      for batch in tqdm(train_loader):\n",
        "\n",
        "        print(\"Epoch batch check\")\n",
        "\n",
        "        input_ids = batch['input_ids'].to(device)\n",
        "        attention_mask = batch['attention_mask'].to(device)\n",
        "        labels = batch['labels'].to(device)\n",
        "        with torch.autocast(device_type=device, dtype=torch.float16):\n",
        "          print(\"Input ids check\")\n",
        "          logits = model(input_ids=input_ids, attention_mask=attention_mask)\n",
        "\n",
        "          print(\"Autocast out\")\n",
        "          print(logits.shape)\n",
        "\n",
        "          optimizer.zero_grad()\n",
        "          # logits = logits.view(-1)\n",
        "          # labels = labels.type(torch.long)\n",
        "\n",
        "\n",
        "\n",
        "          loss = criterion(logits, labels)\n",
        "          batch_losses.append(loss.item())\n",
        "          loss.backward()\n",
        "          optimizer.step()\n",
        "\n",
        "    return model, batch_losses\n"
      ]
    },
    {
      "cell_type": "code",
      "execution_count": 11,
      "metadata": {
        "id": "vQLjuMpKzOpa"
      },
      "outputs": [],
      "source": [
        "def make_tokenize(tokenizer):\n",
        "    def tokenize_boolq_evaluation(examples):\n",
        "        return tokenizer(f\"{examples['question']}.\\n{examples['long_answer']}\",truncation=True)\n",
        "    return tokenize_boolq_evaluation\n",
        "\n",
        "def roberta_collator(batch, tokenizer):\n",
        "  input_ids = pad_sequence([torch.tensor(x['input_ids']) for x in batch], batch_first=True,padding_value=tokenizer.pad_token_id)\n",
        "  attention_mask = pad_sequence([torch.tensor(x['attention_mask']) for x in batch], batch_first=True, padding_value=0)\n",
        "  labels = torch.tensor([x['labels'] for x in batch])\n",
        "\n",
        "  return {'input_ids': input_ids, 'attention_mask': attention_mask, 'labels': labels}\n"
      ]
    },
    {
      "cell_type": "code",
      "execution_count": 12,
      "metadata": {
        "colab": {
          "base_uri": "https://localhost:8080/",
          "height": 243,
          "referenced_widgets": [
            "45932142dba74940a9a2413c8913657f",
            "b562aab88e9348e194339cb71a678503",
            "dd446d8fba174582828ad6ddd169d968",
            "f7eb9c5b722f44fda5bb45f6c9b6d912",
            "4e88d6ed9999438c90998e51debd466a",
            "4933627dfa7449c7ae6e769b7bca2608",
            "225ebad673db474e9d870d6139b9a7d3",
            "f08b28f754de4d90b02c4952680f2eb5",
            "1eb86e0e22c64fe9bab54b511ff129df",
            "85573516bd7144c49df08266c890e81f",
            "fc1ae965a66347c78828f93de4d4df58"
          ]
        },
        "id": "4w8YrAHy5i7L",
        "outputId": "76cc25d3-ed03-49f9-f4e6-75650dc31a56"
      },
      "outputs": [
        {
          "name": "stderr",
          "output_type": "stream",
          "text": [
            "  0%|          | 0/18000 [00:00<?, ?it/s]"
          ]
        },
        {
          "name": "stdout",
          "output_type": "stream",
          "text": [
            "Epoch batch check\n",
            "Input ids check\n",
            "forward loop\n"
          ]
        },
        {
          "ename": "",
          "evalue": "",
          "output_type": "error",
          "traceback": [
            "\u001b[1;31mThe Kernel crashed while executing code in the current cell or a previous cell. \n",
            "\u001b[1;31mPlease review the code in the cell(s) to identify a possible cause of the failure. \n",
            "\u001b[1;31mClick <a href='https://aka.ms/vscodeJupyterKernelCrash'>here</a> for more info. \n",
            "\u001b[1;31mView Jupyter <a href='command:jupyter.viewOutput'>log</a> for further details."
          ]
        }
      ],
      "source": [
        "\n",
        "tokenized_train_set = dataset.map(make_tokenize(tokenizer), batched=False)\n",
        "train_loader = DataLoader(encoded_dataset, batch_size=1, collate_fn=lambda batch: roberta_collator(batch, tokenizer))\n",
        "model, batch_losses = finetune_roberta_classifier(model, train_loader, num_epochs=1, lr=1e-5, weight_decay=2e-4)"
      ]
    },
    {
      "cell_type": "code",
      "execution_count": 4,
      "metadata": {
        "id": "pCD3m7Ph6iGT"
      },
      "outputs": [
        {
          "data": {
            "application/vnd.jupyter.widget-view+json": {
              "model_id": "a70916cb637e4dbdb6b6d8a59e86451f",
              "version_major": 2,
              "version_minor": 0
            },
            "text/plain": [
              "Map:   0%|          | 0/18000 [00:00<?, ? examples/s]"
            ]
          },
          "metadata": {},
          "output_type": "display_data"
        },
        {
          "name": "stderr",
          "output_type": "stream",
          "text": [
            "Some weights of RobertaForSequenceClassification were not initialized from the model checkpoint at roberta-base and are newly initialized: ['classifier.dense.bias', 'classifier.dense.weight', 'classifier.out_proj.bias', 'classifier.out_proj.weight']\n",
            "You should probably TRAIN this model on a down-stream task to be able to use it for predictions and inference.\n"
          ]
        },
        {
          "name": "stdout",
          "output_type": "stream",
          "text": [
            "Epoch 1/1\n"
          ]
        },
        {
          "name": "stderr",
          "output_type": "stream",
          "text": [
            "Training: 100%|██████████| 1125/1125 [01:51<00:00, 10.09it/s]"
          ]
        },
        {
          "name": "stdout",
          "output_type": "stream",
          "text": [
            "Training loss: 0.1539\n"
          ]
        },
        {
          "name": "stderr",
          "output_type": "stream",
          "text": [
            "\n"
          ]
        }
      ],
      "source": [
        "import torch\n",
        "from torch.utils.data import DataLoader\n",
        "from transformers import AutoModelForSequenceClassification, AutoTokenizer\n",
        "from datasets import load_dataset\n",
        "import numpy as np\n",
        "from sklearn.metrics import accuracy_score, precision_recall_fscore_support\n",
        "from tqdm import tqdm\n",
        "import os\n",
        "from torch.nn.utils.rnn import pad_sequence\n",
        "\n",
        "# Set device\n",
        "device = torch.device(\"cuda\" if torch.cuda.is_available() else \"cpu\")\n",
        "\n",
        "# Load dataset\n",
        "dataset = load_dataset(\"pubmed_qa\", \"pqa_artificial\")\n",
        "dataset = dataset[\"train\"].select(range(18000)) \n",
        "\n",
        "# Load pre-trained model and tokenizer\n",
        "tokenizer = AutoTokenizer.from_pretrained(\"roberta-base\")\n",
        "\n",
        "# Define label mapping\n",
        "label_map = {\"yes\": 0, \"no\": 1, \"maybe\": 2}\n",
        "id2label = {v: k for k, v in label_map.items()}\n",
        "label2id = {k: v for v, k in label_map.items()}\n",
        "\n",
        "def preprocess_function(example):\n",
        "    # Use only questions, no context\n",
        "    \n",
        "    final_prompt = f\"{example['question']}\\n{example['long_answer']}\"\n",
        "    inputs = tokenizer(\n",
        "        final_prompt,\n",
        "        truncation=True,\n",
        "        max_length=512\n",
        "    )\n",
        "    inputs[\"labels\"] = label_map[example[\"final_decision\"]]\n",
        "    return inputs\n",
        "\n",
        "def train_collator(batch):\n",
        "    input_ids = pad_sequence(\n",
        "        [torch.tensor(x['input_ids']) for x in batch],\n",
        "        batch_first=True,\n",
        "        padding_value=tokenizer.pad_token_id\n",
        "    )\n",
        "    attention_mask = pad_sequence(\n",
        "        [torch.tensor(x['attention_mask']) for x in batch],\n",
        "        batch_first=True,\n",
        "        padding_value=0\n",
        "    )\n",
        "    labels = torch.tensor([x['labels'] for x in batch])\n",
        "    \n",
        "    return {\n",
        "        'input_ids': input_ids,\n",
        "        'attention_mask': attention_mask,\n",
        "        'labels': labels\n",
        "    }\n",
        "\n",
        "# Preprocess datasets\n",
        "tokenized_datasets = dataset.map(\n",
        "    preprocess_function,\n",
        "    remove_columns=dataset.column_names  # Change to dataset.column_names\n",
        ")\n",
        "\n",
        "# Create dataloaders with custom collator\n",
        "train_dataloader = DataLoader(\n",
        "    tokenized_datasets,  # Change to tokenized_datasets\n",
        "    shuffle=True,\n",
        "    batch_size=16,\n",
        "    collate_fn=train_collator\n",
        ")\n",
        "\n",
        "# eval_dataloader = DataLoader(\n",
        "#     tokenized_datasets[\"validation\"],\n",
        "#     batch_size=16,  # Increased batch size since sequences are shorter\n",
        "#     collate_fn=train_collator\n",
        "# )\n",
        "\n",
        "# Initialize model\n",
        "model = AutoModelForSequenceClassification.from_pretrained(\n",
        "    \"roberta-base\",\n",
        "    num_labels=3,  # PubMedQA has 3 labels: yes, no, maybe\n",
        "    id2label=id2label,\n",
        "    label2id=label_map\n",
        ")\n",
        "model.to(device)\n",
        "\n",
        "def finetune_roberta_classifier(model, train_loader, num_epochs, lr=2e-5, weight_decay=0.01, device=\"cuda\"):\n",
        "    \"\"\"\n",
        "    Function to fine-tune a RoBERTa model for classification\n",
        "    \"\"\"\n",
        "    model.train()\n",
        "    optimizer = torch.optim.AdamW(model.parameters(), lr=lr, weight_decay=weight_decay)\n",
        "    criterion = torch.nn.CrossEntropyLoss()  # For multi-class classification\n",
        "    batch_losses = []\n",
        "    best_f1 = 0\n",
        "\n",
        "    for epoch in range(num_epochs):\n",
        "        print(f\"Epoch {epoch + 1}/{num_epochs}\")\n",
        "        model.train()\n",
        "        epoch_losses = []\n",
        "\n",
        "        for batch in tqdm(train_loader, desc=\"Training\"):\n",
        "            input_ids = batch['input_ids'].to(device)\n",
        "            attention_mask = batch['attention_mask'].to(device)\n",
        "            labels = batch['labels'].to(device)\n",
        "\n",
        "            # Change device_type to device.type\n",
        "            with torch.autocast(device_type=device.type, dtype=torch.float16): \n",
        "                outputs = model(input_ids=input_ids, attention_mask=attention_mask)\n",
        "                logits = outputs.logits\n",
        "                loss = criterion(logits, labels)\n",
        "\n",
        "            optimizer.zero_grad()\n",
        "            loss.backward()\n",
        "            optimizer.step()\n",
        "\n",
        "            batch_losses.append(loss.item())\n",
        "            epoch_losses.append(loss.item())\n",
        "\n",
        "        avg_epoch_loss = sum(epoch_losses) / len(epoch_losses)\n",
        "        print(f\"Training loss: {avg_epoch_loss:.4f}\")\n",
        "\n",
        "    return model, batch_losses\n",
        "\n",
        "\n",
        "# Run training\n",
        "model, batch_losses = finetune_roberta_classifier(\n",
        "    model=model,\n",
        "    train_loader=train_dataloader,\n",
        "    num_epochs=1,\n",
        "    lr=2e-5,\n",
        "    weight_decay=0.001,\n",
        "    device=device\n",
        ")"
      ]
    },
    {
      "cell_type": "code",
      "execution_count": null,
      "metadata": {},
      "outputs": [],
      "source": []
    }
  ],
  "metadata": {
    "accelerator": "GPU",
    "colab": {
      "gpuType": "T4",
      "provenance": []
    },
    "kernelspec": {
      "display_name": "Python 3",
      "name": "python3"
    },
    "language_info": {
      "codemirror_mode": {
        "name": "ipython",
        "version": 3
      },
      "file_extension": ".py",
      "mimetype": "text/x-python",
      "name": "python",
      "nbconvert_exporter": "python",
      "pygments_lexer": "ipython3",
      "version": "3.10.17"
    },
    "widgets": {
      "application/vnd.jupyter.widget-state+json": {
        "084a38a72c5348229bec688ad9c34467": {
          "model_module": "@jupyter-widgets/controls",
          "model_module_version": "1.5.0",
          "model_name": "FloatProgressModel",
          "state": {
            "_dom_classes": [],
            "_model_module": "@jupyter-widgets/controls",
            "_model_module_version": "1.5.0",
            "_model_name": "FloatProgressModel",
            "_view_count": null,
            "_view_module": "@jupyter-widgets/controls",
            "_view_module_version": "1.5.0",
            "_view_name": "ProgressView",
            "bar_style": "success",
            "description": "",
            "description_tooltip": null,
            "layout": "IPY_MODEL_5f2fde1f448147dcab1888b9e64584e1",
            "max": 18000,
            "min": 0,
            "orientation": "horizontal",
            "style": "IPY_MODEL_0df267cfa0f9488c9a84ff152cde0309",
            "value": 18000
          }
        },
        "0df267cfa0f9488c9a84ff152cde0309": {
          "model_module": "@jupyter-widgets/controls",
          "model_module_version": "1.5.0",
          "model_name": "ProgressStyleModel",
          "state": {
            "_model_module": "@jupyter-widgets/controls",
            "_model_module_version": "1.5.0",
            "_model_name": "ProgressStyleModel",
            "_view_count": null,
            "_view_module": "@jupyter-widgets/base",
            "_view_module_version": "1.2.0",
            "_view_name": "StyleView",
            "bar_color": null,
            "description_width": ""
          }
        },
        "135b36682c1d449a85b12e8bb91d7a37": {
          "model_module": "@jupyter-widgets/base",
          "model_module_version": "1.2.0",
          "model_name": "LayoutModel",
          "state": {
            "_model_module": "@jupyter-widgets/base",
            "_model_module_version": "1.2.0",
            "_model_name": "LayoutModel",
            "_view_count": null,
            "_view_module": "@jupyter-widgets/base",
            "_view_module_version": "1.2.0",
            "_view_name": "LayoutView",
            "align_content": null,
            "align_items": null,
            "align_self": null,
            "border": null,
            "bottom": null,
            "display": null,
            "flex": null,
            "flex_flow": null,
            "grid_area": null,
            "grid_auto_columns": null,
            "grid_auto_flow": null,
            "grid_auto_rows": null,
            "grid_column": null,
            "grid_gap": null,
            "grid_row": null,
            "grid_template_areas": null,
            "grid_template_columns": null,
            "grid_template_rows": null,
            "height": null,
            "justify_content": null,
            "justify_items": null,
            "left": null,
            "margin": null,
            "max_height": null,
            "max_width": null,
            "min_height": null,
            "min_width": null,
            "object_fit": null,
            "object_position": null,
            "order": null,
            "overflow": null,
            "overflow_x": null,
            "overflow_y": null,
            "padding": null,
            "right": null,
            "top": null,
            "visibility": null,
            "width": null
          }
        },
        "1eb86e0e22c64fe9bab54b511ff129df": {
          "model_module": "@jupyter-widgets/controls",
          "model_module_version": "1.5.0",
          "model_name": "ProgressStyleModel",
          "state": {
            "_model_module": "@jupyter-widgets/controls",
            "_model_module_version": "1.5.0",
            "_model_name": "ProgressStyleModel",
            "_view_count": null,
            "_view_module": "@jupyter-widgets/base",
            "_view_module_version": "1.2.0",
            "_view_name": "StyleView",
            "bar_color": null,
            "description_width": ""
          }
        },
        "225ebad673db474e9d870d6139b9a7d3": {
          "model_module": "@jupyter-widgets/controls",
          "model_module_version": "1.5.0",
          "model_name": "DescriptionStyleModel",
          "state": {
            "_model_module": "@jupyter-widgets/controls",
            "_model_module_version": "1.5.0",
            "_model_name": "DescriptionStyleModel",
            "_view_count": null,
            "_view_module": "@jupyter-widgets/base",
            "_view_module_version": "1.2.0",
            "_view_name": "StyleView",
            "description_width": ""
          }
        },
        "45932142dba74940a9a2413c8913657f": {
          "model_module": "@jupyter-widgets/controls",
          "model_module_version": "1.5.0",
          "model_name": "HBoxModel",
          "state": {
            "_dom_classes": [],
            "_model_module": "@jupyter-widgets/controls",
            "_model_module_version": "1.5.0",
            "_model_name": "HBoxModel",
            "_view_count": null,
            "_view_module": "@jupyter-widgets/controls",
            "_view_module_version": "1.5.0",
            "_view_name": "HBoxView",
            "box_style": "",
            "children": [
              "IPY_MODEL_b562aab88e9348e194339cb71a678503",
              "IPY_MODEL_dd446d8fba174582828ad6ddd169d968",
              "IPY_MODEL_f7eb9c5b722f44fda5bb45f6c9b6d912"
            ],
            "layout": "IPY_MODEL_4e88d6ed9999438c90998e51debd466a"
          }
        },
        "46708a5fe62643e4ba8f9149b8d5aead": {
          "model_module": "@jupyter-widgets/controls",
          "model_module_version": "1.5.0",
          "model_name": "HBoxModel",
          "state": {
            "_dom_classes": [],
            "_model_module": "@jupyter-widgets/controls",
            "_model_module_version": "1.5.0",
            "_model_name": "HBoxModel",
            "_view_count": null,
            "_view_module": "@jupyter-widgets/controls",
            "_view_module_version": "1.5.0",
            "_view_name": "HBoxView",
            "box_style": "",
            "children": [
              "IPY_MODEL_ec52d6952ea9401dba0d7f84f0493f05",
              "IPY_MODEL_084a38a72c5348229bec688ad9c34467",
              "IPY_MODEL_b600fcfa251048a3ae1265cc8c87e44b"
            ],
            "layout": "IPY_MODEL_848243d6ec4b44bebe22f2a4889c17cb"
          }
        },
        "4933627dfa7449c7ae6e769b7bca2608": {
          "model_module": "@jupyter-widgets/base",
          "model_module_version": "1.2.0",
          "model_name": "LayoutModel",
          "state": {
            "_model_module": "@jupyter-widgets/base",
            "_model_module_version": "1.2.0",
            "_model_name": "LayoutModel",
            "_view_count": null,
            "_view_module": "@jupyter-widgets/base",
            "_view_module_version": "1.2.0",
            "_view_name": "LayoutView",
            "align_content": null,
            "align_items": null,
            "align_self": null,
            "border": null,
            "bottom": null,
            "display": null,
            "flex": null,
            "flex_flow": null,
            "grid_area": null,
            "grid_auto_columns": null,
            "grid_auto_flow": null,
            "grid_auto_rows": null,
            "grid_column": null,
            "grid_gap": null,
            "grid_row": null,
            "grid_template_areas": null,
            "grid_template_columns": null,
            "grid_template_rows": null,
            "height": null,
            "justify_content": null,
            "justify_items": null,
            "left": null,
            "margin": null,
            "max_height": null,
            "max_width": null,
            "min_height": null,
            "min_width": null,
            "object_fit": null,
            "object_position": null,
            "order": null,
            "overflow": null,
            "overflow_x": null,
            "overflow_y": null,
            "padding": null,
            "right": null,
            "top": null,
            "visibility": null,
            "width": null
          }
        },
        "4e88d6ed9999438c90998e51debd466a": {
          "model_module": "@jupyter-widgets/base",
          "model_module_version": "1.2.0",
          "model_name": "LayoutModel",
          "state": {
            "_model_module": "@jupyter-widgets/base",
            "_model_module_version": "1.2.0",
            "_model_name": "LayoutModel",
            "_view_count": null,
            "_view_module": "@jupyter-widgets/base",
            "_view_module_version": "1.2.0",
            "_view_name": "LayoutView",
            "align_content": null,
            "align_items": null,
            "align_self": null,
            "border": null,
            "bottom": null,
            "display": null,
            "flex": null,
            "flex_flow": null,
            "grid_area": null,
            "grid_auto_columns": null,
            "grid_auto_flow": null,
            "grid_auto_rows": null,
            "grid_column": null,
            "grid_gap": null,
            "grid_row": null,
            "grid_template_areas": null,
            "grid_template_columns": null,
            "grid_template_rows": null,
            "height": null,
            "justify_content": null,
            "justify_items": null,
            "left": null,
            "margin": null,
            "max_height": null,
            "max_width": null,
            "min_height": null,
            "min_width": null,
            "object_fit": null,
            "object_position": null,
            "order": null,
            "overflow": null,
            "overflow_x": null,
            "overflow_y": null,
            "padding": null,
            "right": null,
            "top": null,
            "visibility": null,
            "width": null
          }
        },
        "5f2fde1f448147dcab1888b9e64584e1": {
          "model_module": "@jupyter-widgets/base",
          "model_module_version": "1.2.0",
          "model_name": "LayoutModel",
          "state": {
            "_model_module": "@jupyter-widgets/base",
            "_model_module_version": "1.2.0",
            "_model_name": "LayoutModel",
            "_view_count": null,
            "_view_module": "@jupyter-widgets/base",
            "_view_module_version": "1.2.0",
            "_view_name": "LayoutView",
            "align_content": null,
            "align_items": null,
            "align_self": null,
            "border": null,
            "bottom": null,
            "display": null,
            "flex": null,
            "flex_flow": null,
            "grid_area": null,
            "grid_auto_columns": null,
            "grid_auto_flow": null,
            "grid_auto_rows": null,
            "grid_column": null,
            "grid_gap": null,
            "grid_row": null,
            "grid_template_areas": null,
            "grid_template_columns": null,
            "grid_template_rows": null,
            "height": null,
            "justify_content": null,
            "justify_items": null,
            "left": null,
            "margin": null,
            "max_height": null,
            "max_width": null,
            "min_height": null,
            "min_width": null,
            "object_fit": null,
            "object_position": null,
            "order": null,
            "overflow": null,
            "overflow_x": null,
            "overflow_y": null,
            "padding": null,
            "right": null,
            "top": null,
            "visibility": null,
            "width": null
          }
        },
        "848243d6ec4b44bebe22f2a4889c17cb": {
          "model_module": "@jupyter-widgets/base",
          "model_module_version": "1.2.0",
          "model_name": "LayoutModel",
          "state": {
            "_model_module": "@jupyter-widgets/base",
            "_model_module_version": "1.2.0",
            "_model_name": "LayoutModel",
            "_view_count": null,
            "_view_module": "@jupyter-widgets/base",
            "_view_module_version": "1.2.0",
            "_view_name": "LayoutView",
            "align_content": null,
            "align_items": null,
            "align_self": null,
            "border": null,
            "bottom": null,
            "display": null,
            "flex": null,
            "flex_flow": null,
            "grid_area": null,
            "grid_auto_columns": null,
            "grid_auto_flow": null,
            "grid_auto_rows": null,
            "grid_column": null,
            "grid_gap": null,
            "grid_row": null,
            "grid_template_areas": null,
            "grid_template_columns": null,
            "grid_template_rows": null,
            "height": null,
            "justify_content": null,
            "justify_items": null,
            "left": null,
            "margin": null,
            "max_height": null,
            "max_width": null,
            "min_height": null,
            "min_width": null,
            "object_fit": null,
            "object_position": null,
            "order": null,
            "overflow": null,
            "overflow_x": null,
            "overflow_y": null,
            "padding": null,
            "right": null,
            "top": null,
            "visibility": null,
            "width": null
          }
        },
        "85573516bd7144c49df08266c890e81f": {
          "model_module": "@jupyter-widgets/base",
          "model_module_version": "1.2.0",
          "model_name": "LayoutModel",
          "state": {
            "_model_module": "@jupyter-widgets/base",
            "_model_module_version": "1.2.0",
            "_model_name": "LayoutModel",
            "_view_count": null,
            "_view_module": "@jupyter-widgets/base",
            "_view_module_version": "1.2.0",
            "_view_name": "LayoutView",
            "align_content": null,
            "align_items": null,
            "align_self": null,
            "border": null,
            "bottom": null,
            "display": null,
            "flex": null,
            "flex_flow": null,
            "grid_area": null,
            "grid_auto_columns": null,
            "grid_auto_flow": null,
            "grid_auto_rows": null,
            "grid_column": null,
            "grid_gap": null,
            "grid_row": null,
            "grid_template_areas": null,
            "grid_template_columns": null,
            "grid_template_rows": null,
            "height": null,
            "justify_content": null,
            "justify_items": null,
            "left": null,
            "margin": null,
            "max_height": null,
            "max_width": null,
            "min_height": null,
            "min_width": null,
            "object_fit": null,
            "object_position": null,
            "order": null,
            "overflow": null,
            "overflow_x": null,
            "overflow_y": null,
            "padding": null,
            "right": null,
            "top": null,
            "visibility": null,
            "width": null
          }
        },
        "9d0aa28200114b1680cc5df9846dcaf4": {
          "model_module": "@jupyter-widgets/controls",
          "model_module_version": "1.5.0",
          "model_name": "DescriptionStyleModel",
          "state": {
            "_model_module": "@jupyter-widgets/controls",
            "_model_module_version": "1.5.0",
            "_model_name": "DescriptionStyleModel",
            "_view_count": null,
            "_view_module": "@jupyter-widgets/base",
            "_view_module_version": "1.2.0",
            "_view_name": "StyleView",
            "description_width": ""
          }
        },
        "b562aab88e9348e194339cb71a678503": {
          "model_module": "@jupyter-widgets/controls",
          "model_module_version": "1.5.0",
          "model_name": "HTMLModel",
          "state": {
            "_dom_classes": [],
            "_model_module": "@jupyter-widgets/controls",
            "_model_module_version": "1.5.0",
            "_model_name": "HTMLModel",
            "_view_count": null,
            "_view_module": "@jupyter-widgets/controls",
            "_view_module_version": "1.5.0",
            "_view_name": "HTMLView",
            "description": "",
            "description_tooltip": null,
            "layout": "IPY_MODEL_4933627dfa7449c7ae6e769b7bca2608",
            "placeholder": "​",
            "style": "IPY_MODEL_225ebad673db474e9d870d6139b9a7d3",
            "value": "Map: 100%"
          }
        },
        "b600fcfa251048a3ae1265cc8c87e44b": {
          "model_module": "@jupyter-widgets/controls",
          "model_module_version": "1.5.0",
          "model_name": "HTMLModel",
          "state": {
            "_dom_classes": [],
            "_model_module": "@jupyter-widgets/controls",
            "_model_module_version": "1.5.0",
            "_model_name": "HTMLModel",
            "_view_count": null,
            "_view_module": "@jupyter-widgets/controls",
            "_view_module_version": "1.5.0",
            "_view_name": "HTMLView",
            "description": "",
            "description_tooltip": null,
            "layout": "IPY_MODEL_c4f4f12498f946cf833f58f99765d894",
            "placeholder": "​",
            "style": "IPY_MODEL_9d0aa28200114b1680cc5df9846dcaf4",
            "value": " 18000/18000 [00:21&lt;00:00, 1101.54 examples/s]"
          }
        },
        "c4f4f12498f946cf833f58f99765d894": {
          "model_module": "@jupyter-widgets/base",
          "model_module_version": "1.2.0",
          "model_name": "LayoutModel",
          "state": {
            "_model_module": "@jupyter-widgets/base",
            "_model_module_version": "1.2.0",
            "_model_name": "LayoutModel",
            "_view_count": null,
            "_view_module": "@jupyter-widgets/base",
            "_view_module_version": "1.2.0",
            "_view_name": "LayoutView",
            "align_content": null,
            "align_items": null,
            "align_self": null,
            "border": null,
            "bottom": null,
            "display": null,
            "flex": null,
            "flex_flow": null,
            "grid_area": null,
            "grid_auto_columns": null,
            "grid_auto_flow": null,
            "grid_auto_rows": null,
            "grid_column": null,
            "grid_gap": null,
            "grid_row": null,
            "grid_template_areas": null,
            "grid_template_columns": null,
            "grid_template_rows": null,
            "height": null,
            "justify_content": null,
            "justify_items": null,
            "left": null,
            "margin": null,
            "max_height": null,
            "max_width": null,
            "min_height": null,
            "min_width": null,
            "object_fit": null,
            "object_position": null,
            "order": null,
            "overflow": null,
            "overflow_x": null,
            "overflow_y": null,
            "padding": null,
            "right": null,
            "top": null,
            "visibility": null,
            "width": null
          }
        },
        "dd446d8fba174582828ad6ddd169d968": {
          "model_module": "@jupyter-widgets/controls",
          "model_module_version": "1.5.0",
          "model_name": "FloatProgressModel",
          "state": {
            "_dom_classes": [],
            "_model_module": "@jupyter-widgets/controls",
            "_model_module_version": "1.5.0",
            "_model_name": "FloatProgressModel",
            "_view_count": null,
            "_view_module": "@jupyter-widgets/controls",
            "_view_module_version": "1.5.0",
            "_view_name": "ProgressView",
            "bar_style": "success",
            "description": "",
            "description_tooltip": null,
            "layout": "IPY_MODEL_f08b28f754de4d90b02c4952680f2eb5",
            "max": 18000,
            "min": 0,
            "orientation": "horizontal",
            "style": "IPY_MODEL_1eb86e0e22c64fe9bab54b511ff129df",
            "value": 18000
          }
        },
        "ec52d6952ea9401dba0d7f84f0493f05": {
          "model_module": "@jupyter-widgets/controls",
          "model_module_version": "1.5.0",
          "model_name": "HTMLModel",
          "state": {
            "_dom_classes": [],
            "_model_module": "@jupyter-widgets/controls",
            "_model_module_version": "1.5.0",
            "_model_name": "HTMLModel",
            "_view_count": null,
            "_view_module": "@jupyter-widgets/controls",
            "_view_module_version": "1.5.0",
            "_view_name": "HTMLView",
            "description": "",
            "description_tooltip": null,
            "layout": "IPY_MODEL_135b36682c1d449a85b12e8bb91d7a37",
            "placeholder": "​",
            "style": "IPY_MODEL_fe78077b4a5c44a6860dbec069a8d6cd",
            "value": "Map: 100%"
          }
        },
        "f08b28f754de4d90b02c4952680f2eb5": {
          "model_module": "@jupyter-widgets/base",
          "model_module_version": "1.2.0",
          "model_name": "LayoutModel",
          "state": {
            "_model_module": "@jupyter-widgets/base",
            "_model_module_version": "1.2.0",
            "_model_name": "LayoutModel",
            "_view_count": null,
            "_view_module": "@jupyter-widgets/base",
            "_view_module_version": "1.2.0",
            "_view_name": "LayoutView",
            "align_content": null,
            "align_items": null,
            "align_self": null,
            "border": null,
            "bottom": null,
            "display": null,
            "flex": null,
            "flex_flow": null,
            "grid_area": null,
            "grid_auto_columns": null,
            "grid_auto_flow": null,
            "grid_auto_rows": null,
            "grid_column": null,
            "grid_gap": null,
            "grid_row": null,
            "grid_template_areas": null,
            "grid_template_columns": null,
            "grid_template_rows": null,
            "height": null,
            "justify_content": null,
            "justify_items": null,
            "left": null,
            "margin": null,
            "max_height": null,
            "max_width": null,
            "min_height": null,
            "min_width": null,
            "object_fit": null,
            "object_position": null,
            "order": null,
            "overflow": null,
            "overflow_x": null,
            "overflow_y": null,
            "padding": null,
            "right": null,
            "top": null,
            "visibility": null,
            "width": null
          }
        },
        "f7eb9c5b722f44fda5bb45f6c9b6d912": {
          "model_module": "@jupyter-widgets/controls",
          "model_module_version": "1.5.0",
          "model_name": "HTMLModel",
          "state": {
            "_dom_classes": [],
            "_model_module": "@jupyter-widgets/controls",
            "_model_module_version": "1.5.0",
            "_model_name": "HTMLModel",
            "_view_count": null,
            "_view_module": "@jupyter-widgets/controls",
            "_view_module_version": "1.5.0",
            "_view_name": "HTMLView",
            "description": "",
            "description_tooltip": null,
            "layout": "IPY_MODEL_85573516bd7144c49df08266c890e81f",
            "placeholder": "​",
            "style": "IPY_MODEL_fc1ae965a66347c78828f93de4d4df58",
            "value": " 18000/18000 [00:20&lt;00:00, 787.67 examples/s]"
          }
        },
        "fc1ae965a66347c78828f93de4d4df58": {
          "model_module": "@jupyter-widgets/controls",
          "model_module_version": "1.5.0",
          "model_name": "DescriptionStyleModel",
          "state": {
            "_model_module": "@jupyter-widgets/controls",
            "_model_module_version": "1.5.0",
            "_model_name": "DescriptionStyleModel",
            "_view_count": null,
            "_view_module": "@jupyter-widgets/base",
            "_view_module_version": "1.2.0",
            "_view_name": "StyleView",
            "description_width": ""
          }
        },
        "fe78077b4a5c44a6860dbec069a8d6cd": {
          "model_module": "@jupyter-widgets/controls",
          "model_module_version": "1.5.0",
          "model_name": "DescriptionStyleModel",
          "state": {
            "_model_module": "@jupyter-widgets/controls",
            "_model_module_version": "1.5.0",
            "_model_name": "DescriptionStyleModel",
            "_view_count": null,
            "_view_module": "@jupyter-widgets/base",
            "_view_module_version": "1.2.0",
            "_view_name": "StyleView",
            "description_width": ""
          }
        }
      }
    }
  },
  "nbformat": 4,
  "nbformat_minor": 0
}
